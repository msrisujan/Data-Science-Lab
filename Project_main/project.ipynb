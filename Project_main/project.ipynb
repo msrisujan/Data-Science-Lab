{
 "cells": [
  {
   "cell_type": "code",
   "execution_count": 1,
   "metadata": {},
   "outputs": [],
   "source": [
    "import pandas as pd\n",
    "import numpy as np\n",
    "import matplotlib.pyplot as plt\n",
    "import seaborn as sns\n"
   ]
  },
  {
   "cell_type": "code",
   "execution_count": 2,
   "metadata": {},
   "outputs": [],
   "source": [
    "data=pd.read_csv('Dataset_Final4.csv')"
   ]
  },
  {
   "cell_type": "markdown",
   "metadata": {},
   "source": [
    "## Data Discretization"
   ]
  },
  {
   "cell_type": "code",
   "execution_count": 3,
   "metadata": {},
   "outputs": [
    {
     "data": {
      "text/html": [
       "<div>\n",
       "<style scoped>\n",
       "    .dataframe tbody tr th:only-of-type {\n",
       "        vertical-align: middle;\n",
       "    }\n",
       "\n",
       "    .dataframe tbody tr th {\n",
       "        vertical-align: top;\n",
       "    }\n",
       "\n",
       "    .dataframe thead th {\n",
       "        text-align: right;\n",
       "    }\n",
       "</style>\n",
       "<table border=\"1\" class=\"dataframe\">\n",
       "  <thead>\n",
       "    <tr style=\"text-align: right;\">\n",
       "      <th></th>\n",
       "      <th>Name</th>\n",
       "      <th>Roll No</th>\n",
       "      <th>Degree</th>\n",
       "      <th>Gender</th>\n",
       "      <th>Sem</th>\n",
       "      <th>CGPA</th>\n",
       "      <th>Age</th>\n",
       "      <th>Height</th>\n",
       "      <th>Weight</th>\n",
       "      <th>BMI</th>\n",
       "      <th>Gym/badminton</th>\n",
       "    </tr>\n",
       "  </thead>\n",
       "  <tbody>\n",
       "    <tr>\n",
       "      <th>0</th>\n",
       "      <td>SENTHIL NIRAI NILAVU P V S</td>\n",
       "      <td>ME20B2004</td>\n",
       "      <td>B.Tech</td>\n",
       "      <td>Female</td>\n",
       "      <td>7.0</td>\n",
       "      <td>8.0</td>\n",
       "      <td>22.0</td>\n",
       "      <td>173.0</td>\n",
       "      <td>81.0</td>\n",
       "      <td>27.06</td>\n",
       "      <td>0.0</td>\n",
       "    </tr>\n",
       "    <tr>\n",
       "      <th>1</th>\n",
       "      <td>KOLLIPARA UMA AYYAPPA SAI SRIKAR</td>\n",
       "      <td>EC22B1084</td>\n",
       "      <td>B.Tech</td>\n",
       "      <td>Male</td>\n",
       "      <td>3.0</td>\n",
       "      <td>6.0</td>\n",
       "      <td>20.0</td>\n",
       "      <td>167.0</td>\n",
       "      <td>67.0</td>\n",
       "      <td>24.02</td>\n",
       "      <td>0.0</td>\n",
       "    </tr>\n",
       "    <tr>\n",
       "      <th>2</th>\n",
       "      <td>KETHAVATH ANIL</td>\n",
       "      <td>CS20B1049</td>\n",
       "      <td>B.Tech</td>\n",
       "      <td>Male</td>\n",
       "      <td>7.0</td>\n",
       "      <td>7.0</td>\n",
       "      <td>22.0</td>\n",
       "      <td>170.0</td>\n",
       "      <td>74.0</td>\n",
       "      <td>25.61</td>\n",
       "      <td>0.0</td>\n",
       "    </tr>\n",
       "    <tr>\n",
       "      <th>3</th>\n",
       "      <td>RAGHUMANDALA SIVA KIRAN</td>\n",
       "      <td>EC21B1045</td>\n",
       "      <td>B.Tech</td>\n",
       "      <td>Male</td>\n",
       "      <td>5.0</td>\n",
       "      <td>10.0</td>\n",
       "      <td>19.0</td>\n",
       "      <td>179.0</td>\n",
       "      <td>93.0</td>\n",
       "      <td>29.03</td>\n",
       "      <td>0.0</td>\n",
       "    </tr>\n",
       "    <tr>\n",
       "      <th>4</th>\n",
       "      <td>B GANESH</td>\n",
       "      <td>ME21B1014</td>\n",
       "      <td>B.Tech</td>\n",
       "      <td>Male</td>\n",
       "      <td>5.0</td>\n",
       "      <td>8.0</td>\n",
       "      <td>21.0</td>\n",
       "      <td>171.0</td>\n",
       "      <td>68.0</td>\n",
       "      <td>23.26</td>\n",
       "      <td>1.0</td>\n",
       "    </tr>\n",
       "    <tr>\n",
       "      <th>...</th>\n",
       "      <td>...</td>\n",
       "      <td>...</td>\n",
       "      <td>...</td>\n",
       "      <td>...</td>\n",
       "      <td>...</td>\n",
       "      <td>...</td>\n",
       "      <td>...</td>\n",
       "      <td>...</td>\n",
       "      <td>...</td>\n",
       "      <td>...</td>\n",
       "      <td>...</td>\n",
       "    </tr>\n",
       "    <tr>\n",
       "      <th>812</th>\n",
       "      <td>TENALI ANIL KUMAR</td>\n",
       "      <td>EC21B1078</td>\n",
       "      <td>B.Tech</td>\n",
       "      <td>Male</td>\n",
       "      <td>5.0</td>\n",
       "      <td>10.0</td>\n",
       "      <td>19.0</td>\n",
       "      <td>175.0</td>\n",
       "      <td>67.0</td>\n",
       "      <td>21.88</td>\n",
       "      <td>1.0</td>\n",
       "    </tr>\n",
       "    <tr>\n",
       "      <th>813</th>\n",
       "      <td>CHERUKURI KULADEEP GUPTHA</td>\n",
       "      <td>CS21B1064</td>\n",
       "      <td>B.Tech</td>\n",
       "      <td>Male</td>\n",
       "      <td>5.0</td>\n",
       "      <td>9.0</td>\n",
       "      <td>21.0</td>\n",
       "      <td>184.0</td>\n",
       "      <td>86.0</td>\n",
       "      <td>25.40</td>\n",
       "      <td>0.0</td>\n",
       "    </tr>\n",
       "    <tr>\n",
       "      <th>814</th>\n",
       "      <td>S.MUTHU SHRAVAN</td>\n",
       "      <td>ME20B1009</td>\n",
       "      <td>B.Tech</td>\n",
       "      <td>Male</td>\n",
       "      <td>7.0</td>\n",
       "      <td>8.0</td>\n",
       "      <td>21.0</td>\n",
       "      <td>168.0</td>\n",
       "      <td>71.0</td>\n",
       "      <td>25.16</td>\n",
       "      <td>0.0</td>\n",
       "    </tr>\n",
       "    <tr>\n",
       "      <th>815</th>\n",
       "      <td>SURYA RAGHAV B</td>\n",
       "      <td>CS21B2042</td>\n",
       "      <td>B.Tech</td>\n",
       "      <td>Male</td>\n",
       "      <td>5.0</td>\n",
       "      <td>6.0</td>\n",
       "      <td>21.0</td>\n",
       "      <td>169.0</td>\n",
       "      <td>72.0</td>\n",
       "      <td>25.21</td>\n",
       "      <td>1.0</td>\n",
       "    </tr>\n",
       "    <tr>\n",
       "      <th>816</th>\n",
       "      <td>BOLIMERA SIDDHARTH SEKHAR</td>\n",
       "      <td>EC22B1064</td>\n",
       "      <td>B.Tech</td>\n",
       "      <td>Male</td>\n",
       "      <td>3.0</td>\n",
       "      <td>7.0</td>\n",
       "      <td>19.0</td>\n",
       "      <td>172.0</td>\n",
       "      <td>66.0</td>\n",
       "      <td>22.31</td>\n",
       "      <td>0.0</td>\n",
       "    </tr>\n",
       "  </tbody>\n",
       "</table>\n",
       "<p>817 rows × 11 columns</p>\n",
       "</div>"
      ],
      "text/plain": [
       "                                 Name    Roll No  Degree  Gender  Sem  CGPA  \\\n",
       "0          SENTHIL NIRAI NILAVU P V S  ME20B2004  B.Tech  Female  7.0   8.0   \n",
       "1    KOLLIPARA UMA AYYAPPA SAI SRIKAR  EC22B1084  B.Tech    Male  3.0   6.0   \n",
       "2                      KETHAVATH ANIL  CS20B1049  B.Tech    Male  7.0   7.0   \n",
       "3             RAGHUMANDALA SIVA KIRAN  EC21B1045  B.Tech    Male  5.0  10.0   \n",
       "4                            B GANESH  ME21B1014  B.Tech    Male  5.0   8.0   \n",
       "..                                ...        ...     ...     ...  ...   ...   \n",
       "812                 TENALI ANIL KUMAR  EC21B1078  B.Tech    Male  5.0  10.0   \n",
       "813         CHERUKURI KULADEEP GUPTHA  CS21B1064  B.Tech    Male  5.0   9.0   \n",
       "814                   S.MUTHU SHRAVAN  ME20B1009  B.Tech    Male  7.0   8.0   \n",
       "815                    SURYA RAGHAV B  CS21B2042  B.Tech    Male  5.0   6.0   \n",
       "816         BOLIMERA SIDDHARTH SEKHAR  EC22B1064  B.Tech    Male  3.0   7.0   \n",
       "\n",
       "      Age  Height  Weight    BMI  Gym/badminton  \n",
       "0    22.0   173.0    81.0  27.06            0.0  \n",
       "1    20.0   167.0    67.0  24.02            0.0  \n",
       "2    22.0   170.0    74.0  25.61            0.0  \n",
       "3    19.0   179.0    93.0  29.03            0.0  \n",
       "4    21.0   171.0    68.0  23.26            1.0  \n",
       "..    ...     ...     ...    ...            ...  \n",
       "812  19.0   175.0    67.0  21.88            1.0  \n",
       "813  21.0   184.0    86.0  25.40            0.0  \n",
       "814  21.0   168.0    71.0  25.16            0.0  \n",
       "815  21.0   169.0    72.0  25.21            1.0  \n",
       "816  19.0   172.0    66.0  22.31            0.0  \n",
       "\n",
       "[817 rows x 11 columns]"
      ]
     },
     "execution_count": 3,
     "metadata": {},
     "output_type": "execute_result"
    }
   ],
   "source": [
    "bins = [0, 5, 6, 7, 8, 9, 10]\n",
    "labels = [5, 6, 7, 8, 9, 10]\n",
    "data['CGPA'] = pd.cut(data['CGPA'], bins=bins, labels=labels)\n",
    "data['CGPA'] = data['CGPA'].astype(float)\n",
    "data"
   ]
  },
  {
   "cell_type": "code",
   "execution_count": 4,
   "metadata": {},
   "outputs": [
    {
     "name": "stdout",
     "output_type": "stream",
     "text": [
      "['Female' 'Male' nan]\n"
     ]
    }
   ],
   "source": [
    "print(data['Gender'].unique())\n",
    "data.loc[data['Gender'] == 'Male', 'Gender'] = 0\n",
    "data.loc[data['Gender'] == 'Female', 'Gender'] = 1\n",
    "\n",
    "data['Gender'] = data['Gender'].astype(float)"
   ]
  },
  {
   "cell_type": "markdown",
   "metadata": {},
   "source": [
    "## Data Cleaning "
   ]
  },
  {
   "cell_type": "code",
   "execution_count": 5,
   "metadata": {},
   "outputs": [
    {
     "name": "stdout",
     "output_type": "stream",
     "text": [
      "817\n",
      "807\n",
      "755\n"
     ]
    }
   ],
   "source": [
    "print(len(data))\n",
    "df_no_duplicates = data.dropna()\n",
    "print(len(df_no_duplicates))\n",
    "df_no_duplicates = df_no_duplicates.drop_duplicates(subset=['Name','Roll No'])\n",
    "print(len(df_no_duplicates))\n"
   ]
  },
  {
   "cell_type": "code",
   "execution_count": 6,
   "metadata": {},
   "outputs": [
    {
     "name": "stdout",
     "output_type": "stream",
     "text": [
      "           Gender         Sem        CGPA         Age      Height      Weight  \\\n",
      "count  755.000000  755.000000  755.000000  755.000000  755.000000  755.000000   \n",
      "mean     0.156291    4.780132    7.992053   20.127152  171.634437   73.601325   \n",
      "std      0.363372    1.631708    1.455782    1.472918    7.395344   11.586315   \n",
      "min      0.000000    3.000000    6.000000   18.000000  100.000000   28.000000   \n",
      "25%      0.000000    3.000000    7.000000   19.000000  168.000000   67.000000   \n",
      "50%      0.000000    5.000000    8.000000   20.000000  172.000000   72.000000   \n",
      "75%      0.000000    7.000000    9.000000   21.000000  175.000000   80.000000   \n",
      "max      1.000000    7.000000   10.000000   26.000000  190.000000  120.000000   \n",
      "\n",
      "              BMI  Gym/badminton  \n",
      "count  755.000000     755.000000  \n",
      "mean    24.859232       0.385430  \n",
      "std      2.652781       0.487019  \n",
      "min     15.700000       0.000000  \n",
      "25%     23.050000       0.000000  \n",
      "50%     24.800000       0.000000  \n",
      "75%     26.880000       1.000000  \n",
      "max     33.910000       1.000000  \n"
     ]
    }
   ],
   "source": [
    "print(df_no_duplicates.describe())"
   ]
  },
  {
   "cell_type": "markdown",
   "metadata": {},
   "source": []
  },
  {
   "cell_type": "code",
   "execution_count": 7,
   "metadata": {},
   "outputs": [],
   "source": [
    "df_no_duplicates['Height'].fillna(round(df_no_duplicates['Height'].mean(),2), inplace=True)\n",
    "df_no_duplicates['Weight'].fillna(round(df_no_duplicates['Weight'].mean(),2), inplace=True)\n",
    "df_no_duplicates['CGPA'].fillna(df_no_duplicates['CGPA'].median(), inplace=True)"
   ]
  },
  {
   "cell_type": "code",
   "execution_count": 8,
   "metadata": {},
   "outputs": [
    {
     "data": {
      "text/plain": [
       "<Axes: >"
      ]
     },
     "execution_count": 8,
     "metadata": {},
     "output_type": "execute_result"
    },
    {
     "data": {
      "image/png": "[encoded data removed]",
      "text/plain": [
       "<Figure size 640x480 with 1 Axes>"
      ]
     },
     "metadata": {},
     "output_type": "display_data"
    }
   ],
   "source": [
    "sns.boxplot(df_no_duplicates['Height'])\n"
   ]
  },
  {
   "cell_type": "code",
   "execution_count": 9,
   "metadata": {},
   "outputs": [
    {
     "data": {
      "text/plain": [
       "<Axes: >"
      ]
     },
     "execution_count": 9,
     "metadata": {},
     "output_type": "execute_result"
    },
    {
     "data": {
      "image/png": "[encoded data removed]",
      "text/plain": [
       "<Figure size 640x480 with 1 Axes>"
      ]
     },
     "metadata": {},
     "output_type": "display_data"
    }
   ],
   "source": [
    "sns.boxplot(df_no_duplicates['Weight'])"
   ]
  },
  {
   "cell_type": "code",
   "execution_count": 10,
   "metadata": {},
   "outputs": [
    {
     "data": {
      "text/plain": [
       "<Axes: >"
      ]
     },
     "execution_count": 10,
     "metadata": {},
     "output_type": "execute_result"
    },
    {
     "data": {
      "image/png": "[encoded data removed]",
      "text/plain": [
       "<Figure size 640x480 with 1 Axes>"
      ]
     },
     "metadata": {},
     "output_type": "display_data"
    }
   ],
   "source": [
    "sns.boxplot(df_no_duplicates['BMI'])"
   ]
  },
  {
   "cell_type": "code",
   "execution_count": 11,
   "metadata": {},
   "outputs": [
    {
     "data": {
      "text/plain": [
       "(168.0, 175.0)"
      ]
     },
     "execution_count": 11,
     "metadata": {},
     "output_type": "execute_result"
    }
   ],
   "source": [
    "df = df_no_duplicates\n",
    "Q1 = df.Height.quantile(0.25)\n",
    "Q3 = df.Height.quantile(0.75)\n",
    "Q1, Q3"
   ]
  },
  {
   "cell_type": "code",
   "execution_count": 12,
   "metadata": {},
   "outputs": [
    {
     "data": {
      "text/plain": [
       "7.0"
      ]
     },
     "execution_count": 12,
     "metadata": {},
     "output_type": "execute_result"
    }
   ],
   "source": [
    "IQR = Q3 - Q1\n",
    "IQR"
   ]
  },
  {
   "cell_type": "code",
   "execution_count": 13,
   "metadata": {},
   "outputs": [
    {
     "data": {
      "text/plain": [
       "(157.5, 185.5)"
      ]
     },
     "execution_count": 13,
     "metadata": {},
     "output_type": "execute_result"
    }
   ],
   "source": [
    "lower_limit = Q1 - 1.5*IQR\n",
    "upper_limit = Q3 + 1.5*IQR\n",
    "lower_limit, upper_limit"
   ]
  },
  {
   "cell_type": "code",
   "execution_count": 14,
   "metadata": {},
   "outputs": [
    {
     "data": {
      "text/html": [
       "<div>\n",
       "<style scoped>\n",
       "    .dataframe tbody tr th:only-of-type {\n",
       "        vertical-align: middle;\n",
       "    }\n",
       "\n",
       "    .dataframe tbody tr th {\n",
       "        vertical-align: top;\n",
       "    }\n",
       "\n",
       "    .dataframe thead th {\n",
       "        text-align: right;\n",
       "    }\n",
       "</style>\n",
       "<table border=\"1\" class=\"dataframe\">\n",
       "  <thead>\n",
       "    <tr style=\"text-align: right;\">\n",
       "      <th></th>\n",
       "      <th>Name</th>\n",
       "      <th>Roll No</th>\n",
       "      <th>Degree</th>\n",
       "      <th>Gender</th>\n",
       "      <th>Sem</th>\n",
       "      <th>CGPA</th>\n",
       "      <th>Age</th>\n",
       "      <th>Height</th>\n",
       "      <th>Weight</th>\n",
       "      <th>BMI</th>\n",
       "      <th>Gym/badminton</th>\n",
       "    </tr>\n",
       "  </thead>\n",
       "  <tbody>\n",
       "    <tr>\n",
       "      <th>30</th>\n",
       "      <td>V.S.HARDHIK RAJ</td>\n",
       "      <td>EC22B1048</td>\n",
       "      <td>B.Tech</td>\n",
       "      <td>0.0</td>\n",
       "      <td>3.0</td>\n",
       "      <td>8.0</td>\n",
       "      <td>18.0</td>\n",
       "      <td>186.0</td>\n",
       "      <td>85.0</td>\n",
       "      <td>24.57</td>\n",
       "      <td>1.0</td>\n",
       "    </tr>\n",
       "    <tr>\n",
       "      <th>47</th>\n",
       "      <td>VARIKUTI NARENDRA REDDY</td>\n",
       "      <td>ME20B1234</td>\n",
       "      <td>B.Tech</td>\n",
       "      <td>0.0</td>\n",
       "      <td>7.0</td>\n",
       "      <td>9.0</td>\n",
       "      <td>22.0</td>\n",
       "      <td>107.0</td>\n",
       "      <td>29.0</td>\n",
       "      <td>25.33</td>\n",
       "      <td>1.0</td>\n",
       "    </tr>\n",
       "    <tr>\n",
       "      <th>62</th>\n",
       "      <td>ANDEY AASHISH</td>\n",
       "      <td>ME22B2212</td>\n",
       "      <td>B.Tech</td>\n",
       "      <td>0.0</td>\n",
       "      <td>3.0</td>\n",
       "      <td>8.0</td>\n",
       "      <td>19.0</td>\n",
       "      <td>190.0</td>\n",
       "      <td>120.0</td>\n",
       "      <td>33.24</td>\n",
       "      <td>1.0</td>\n",
       "    </tr>\n",
       "    <tr>\n",
       "      <th>99</th>\n",
       "      <td>IYAPPAN MUTHUKUMAR K</td>\n",
       "      <td>ME22B1074</td>\n",
       "      <td>B.Tech</td>\n",
       "      <td>0.0</td>\n",
       "      <td>3.0</td>\n",
       "      <td>10.0</td>\n",
       "      <td>18.0</td>\n",
       "      <td>186.0</td>\n",
       "      <td>98.0</td>\n",
       "      <td>28.33</td>\n",
       "      <td>0.0</td>\n",
       "    </tr>\n",
       "    <tr>\n",
       "      <th>352</th>\n",
       "      <td>B PRANEETH</td>\n",
       "      <td>ME21B2031</td>\n",
       "      <td>B.Tech</td>\n",
       "      <td>0.0</td>\n",
       "      <td>5.0</td>\n",
       "      <td>6.0</td>\n",
       "      <td>21.0</td>\n",
       "      <td>187.0</td>\n",
       "      <td>92.0</td>\n",
       "      <td>26.31</td>\n",
       "      <td>0.0</td>\n",
       "    </tr>\n",
       "    <tr>\n",
       "      <th>356</th>\n",
       "      <td>KANCHARLA BABA CHARAN</td>\n",
       "      <td>EC21B1200</td>\n",
       "      <td>B.Tech</td>\n",
       "      <td>0.0</td>\n",
       "      <td>5.0</td>\n",
       "      <td>9.0</td>\n",
       "      <td>21.0</td>\n",
       "      <td>110.0</td>\n",
       "      <td>28.0</td>\n",
       "      <td>23.14</td>\n",
       "      <td>1.0</td>\n",
       "    </tr>\n",
       "    <tr>\n",
       "      <th>365</th>\n",
       "      <td>AZAD KUMAR</td>\n",
       "      <td>EC22B1109</td>\n",
       "      <td>B.Tech</td>\n",
       "      <td>0.0</td>\n",
       "      <td>3.0</td>\n",
       "      <td>7.0</td>\n",
       "      <td>19.0</td>\n",
       "      <td>187.0</td>\n",
       "      <td>88.0</td>\n",
       "      <td>25.17</td>\n",
       "      <td>1.0</td>\n",
       "    </tr>\n",
       "    <tr>\n",
       "      <th>515</th>\n",
       "      <td>GEDUPUDI BHARGHAV RAM</td>\n",
       "      <td>CS21B1090</td>\n",
       "      <td>B.Tech</td>\n",
       "      <td>0.0</td>\n",
       "      <td>5.0</td>\n",
       "      <td>9.0</td>\n",
       "      <td>20.0</td>\n",
       "      <td>100.0</td>\n",
       "      <td>30.0</td>\n",
       "      <td>30.00</td>\n",
       "      <td>0.0</td>\n",
       "    </tr>\n",
       "    <tr>\n",
       "      <th>566</th>\n",
       "      <td>BALIREDDY KALYAN SRIDHAR</td>\n",
       "      <td>ME22B1014</td>\n",
       "      <td>B.Tech</td>\n",
       "      <td>0.0</td>\n",
       "      <td>3.0</td>\n",
       "      <td>9.0</td>\n",
       "      <td>18.0</td>\n",
       "      <td>186.0</td>\n",
       "      <td>84.0</td>\n",
       "      <td>24.28</td>\n",
       "      <td>1.0</td>\n",
       "    </tr>\n",
       "    <tr>\n",
       "      <th>597</th>\n",
       "      <td>KONDABA DATTATRAY ASOLE</td>\n",
       "      <td>EC22B1036</td>\n",
       "      <td>B.Tech</td>\n",
       "      <td>0.0</td>\n",
       "      <td>3.0</td>\n",
       "      <td>10.0</td>\n",
       "      <td>18.0</td>\n",
       "      <td>186.0</td>\n",
       "      <td>85.0</td>\n",
       "      <td>24.57</td>\n",
       "      <td>1.0</td>\n",
       "    </tr>\n",
       "    <tr>\n",
       "      <th>721</th>\n",
       "      <td>PABBINEEDI PAVAN VENKAT</td>\n",
       "      <td>ME21B1012</td>\n",
       "      <td>B.Tech</td>\n",
       "      <td>0.0</td>\n",
       "      <td>5.0</td>\n",
       "      <td>10.0</td>\n",
       "      <td>19.0</td>\n",
       "      <td>187.0</td>\n",
       "      <td>89.0</td>\n",
       "      <td>25.45</td>\n",
       "      <td>0.0</td>\n",
       "    </tr>\n",
       "  </tbody>\n",
       "</table>\n",
       "</div>"
      ],
      "text/plain": [
       "                         Name    Roll No  Degree  Gender  Sem  CGPA   Age  \\\n",
       "30            V.S.HARDHIK RAJ  EC22B1048  B.Tech     0.0  3.0   8.0  18.0   \n",
       "47    VARIKUTI NARENDRA REDDY  ME20B1234  B.Tech     0.0  7.0   9.0  22.0   \n",
       "62              ANDEY AASHISH  ME22B2212  B.Tech     0.0  3.0   8.0  19.0   \n",
       "99       IYAPPAN MUTHUKUMAR K  ME22B1074  B.Tech     0.0  3.0  10.0  18.0   \n",
       "352                B PRANEETH  ME21B2031  B.Tech     0.0  5.0   6.0  21.0   \n",
       "356     KANCHARLA BABA CHARAN  EC21B1200  B.Tech     0.0  5.0   9.0  21.0   \n",
       "365                AZAD KUMAR  EC22B1109  B.Tech     0.0  3.0   7.0  19.0   \n",
       "515     GEDUPUDI BHARGHAV RAM  CS21B1090  B.Tech     0.0  5.0   9.0  20.0   \n",
       "566  BALIREDDY KALYAN SRIDHAR  ME22B1014  B.Tech     0.0  3.0   9.0  18.0   \n",
       "597   KONDABA DATTATRAY ASOLE  EC22B1036  B.Tech     0.0  3.0  10.0  18.0   \n",
       "721   PABBINEEDI PAVAN VENKAT  ME21B1012  B.Tech     0.0  5.0  10.0  19.0   \n",
       "\n",
       "     Height  Weight    BMI  Gym/badminton  \n",
       "30    186.0    85.0  24.57            1.0  \n",
       "47    107.0    29.0  25.33            1.0  \n",
       "62    190.0   120.0  33.24            1.0  \n",
       "99    186.0    98.0  28.33            0.0  \n",
       "352   187.0    92.0  26.31            0.0  \n",
       "356   110.0    28.0  23.14            1.0  \n",
       "365   187.0    88.0  25.17            1.0  \n",
       "515   100.0    30.0  30.00            0.0  \n",
       "566   186.0    84.0  24.28            1.0  \n",
       "597   186.0    85.0  24.57            1.0  \n",
       "721   187.0    89.0  25.45            0.0  "
      ]
     },
     "execution_count": 14,
     "metadata": {},
     "output_type": "execute_result"
    }
   ],
   "source": [
    "height_outliers = df[(df.Height<lower_limit)|(df.Height>upper_limit)]\n",
    "height_outliers"
   ]
  },
  {
   "cell_type": "code",
   "execution_count": 15,
   "metadata": {},
   "outputs": [],
   "source": [
    "new_df = df[(df.Height>lower_limit)&(df.Height<upper_limit)]"
   ]
  },
  {
   "cell_type": "code",
   "execution_count": 16,
   "metadata": {},
   "outputs": [
    {
     "data": {
      "text/html": [
       "<div>\n",
       "<style scoped>\n",
       "    .dataframe tbody tr th:only-of-type {\n",
       "        vertical-align: middle;\n",
       "    }\n",
       "\n",
       "    .dataframe tbody tr th {\n",
       "        vertical-align: top;\n",
       "    }\n",
       "\n",
       "    .dataframe thead th {\n",
       "        text-align: right;\n",
       "    }\n",
       "</style>\n",
       "<table border=\"1\" class=\"dataframe\">\n",
       "  <thead>\n",
       "    <tr style=\"text-align: right;\">\n",
       "      <th></th>\n",
       "      <th>Gender</th>\n",
       "      <th>Sem</th>\n",
       "      <th>CGPA</th>\n",
       "      <th>Age</th>\n",
       "      <th>Height</th>\n",
       "      <th>Weight</th>\n",
       "      <th>BMI</th>\n",
       "      <th>Gym/badminton</th>\n",
       "    </tr>\n",
       "  </thead>\n",
       "  <tbody>\n",
       "    <tr>\n",
       "      <th>count</th>\n",
       "      <td>744.000000</td>\n",
       "      <td>744.000000</td>\n",
       "      <td>744.000000</td>\n",
       "      <td>744.000000</td>\n",
       "      <td>744.000000</td>\n",
       "      <td>744.000000</td>\n",
       "      <td>744.000000</td>\n",
       "      <td>744.000000</td>\n",
       "    </tr>\n",
       "    <tr>\n",
       "      <th>mean</th>\n",
       "      <td>0.158602</td>\n",
       "      <td>4.790323</td>\n",
       "      <td>7.982527</td>\n",
       "      <td>20.138441</td>\n",
       "      <td>171.736559</td>\n",
       "      <td>73.576613</td>\n",
       "      <td>24.836465</td>\n",
       "      <td>0.381720</td>\n",
       "    </tr>\n",
       "    <tr>\n",
       "      <th>std</th>\n",
       "      <td>0.365550</td>\n",
       "      <td>1.633799</td>\n",
       "      <td>1.456767</td>\n",
       "      <td>1.471460</td>\n",
       "      <td>5.943924</td>\n",
       "      <td>11.088148</td>\n",
       "      <td>2.643145</td>\n",
       "      <td>0.486135</td>\n",
       "    </tr>\n",
       "    <tr>\n",
       "      <th>min</th>\n",
       "      <td>0.000000</td>\n",
       "      <td>3.000000</td>\n",
       "      <td>6.000000</td>\n",
       "      <td>18.000000</td>\n",
       "      <td>158.000000</td>\n",
       "      <td>50.000000</td>\n",
       "      <td>15.700000</td>\n",
       "      <td>0.000000</td>\n",
       "    </tr>\n",
       "    <tr>\n",
       "      <th>25%</th>\n",
       "      <td>0.000000</td>\n",
       "      <td>3.000000</td>\n",
       "      <td>7.000000</td>\n",
       "      <td>19.000000</td>\n",
       "      <td>168.000000</td>\n",
       "      <td>67.000000</td>\n",
       "      <td>22.990000</td>\n",
       "      <td>0.000000</td>\n",
       "    </tr>\n",
       "    <tr>\n",
       "      <th>50%</th>\n",
       "      <td>0.000000</td>\n",
       "      <td>5.000000</td>\n",
       "      <td>8.000000</td>\n",
       "      <td>20.000000</td>\n",
       "      <td>172.000000</td>\n",
       "      <td>72.000000</td>\n",
       "      <td>24.800000</td>\n",
       "      <td>0.000000</td>\n",
       "    </tr>\n",
       "    <tr>\n",
       "      <th>75%</th>\n",
       "      <td>0.000000</td>\n",
       "      <td>7.000000</td>\n",
       "      <td>9.000000</td>\n",
       "      <td>21.000000</td>\n",
       "      <td>175.000000</td>\n",
       "      <td>80.000000</td>\n",
       "      <td>26.880000</td>\n",
       "      <td>1.000000</td>\n",
       "    </tr>\n",
       "    <tr>\n",
       "      <th>max</th>\n",
       "      <td>1.000000</td>\n",
       "      <td>7.000000</td>\n",
       "      <td>10.000000</td>\n",
       "      <td>26.000000</td>\n",
       "      <td>185.000000</td>\n",
       "      <td>110.000000</td>\n",
       "      <td>33.910000</td>\n",
       "      <td>1.000000</td>\n",
       "    </tr>\n",
       "  </tbody>\n",
       "</table>\n",
       "</div>"
      ],
      "text/plain": [
       "           Gender         Sem        CGPA         Age      Height      Weight  \\\n",
       "count  744.000000  744.000000  744.000000  744.000000  744.000000  744.000000   \n",
       "mean     0.158602    4.790323    7.982527   20.138441  171.736559   73.576613   \n",
       "std      0.365550    1.633799    1.456767    1.471460    5.943924   11.088148   \n",
       "min      0.000000    3.000000    6.000000   18.000000  158.000000   50.000000   \n",
       "25%      0.000000    3.000000    7.000000   19.000000  168.000000   67.000000   \n",
       "50%      0.000000    5.000000    8.000000   20.000000  172.000000   72.000000   \n",
       "75%      0.000000    7.000000    9.000000   21.000000  175.000000   80.000000   \n",
       "max      1.000000    7.000000   10.000000   26.000000  185.000000  110.000000   \n",
       "\n",
       "              BMI  Gym/badminton  \n",
       "count  744.000000     744.000000  \n",
       "mean    24.836465       0.381720  \n",
       "std      2.643145       0.486135  \n",
       "min     15.700000       0.000000  \n",
       "25%     22.990000       0.000000  \n",
       "50%     24.800000       0.000000  \n",
       "75%     26.880000       1.000000  \n",
       "max     33.910000       1.000000  "
      ]
     },
     "execution_count": 16,
     "metadata": {},
     "output_type": "execute_result"
    }
   ],
   "source": [
    "new_df.describe()"
   ]
  },
  {
   "cell_type": "code",
   "execution_count": 17,
   "metadata": {},
   "outputs": [
    {
     "data": {
      "text/plain": [
       "<Axes: >"
      ]
     },
     "execution_count": 17,
     "metadata": {},
     "output_type": "execute_result"
    },
    {
     "data": {
      "image/png": "[encoded data removed]",
      "text/plain": [
       "<Figure size 640x480 with 1 Axes>"
      ]
     },
     "metadata": {},
     "output_type": "display_data"
    }
   ],
   "source": [
    "sns.boxplot(new_df['Height'])"
   ]
  },
  {
   "cell_type": "code",
   "execution_count": 18,
   "metadata": {},
   "outputs": [
    {
     "data": {
      "image/png": "[encoded data removed]",
      "text/plain": [
       "<Figure size 640x480 with 1 Axes>"
      ]
     },
     "metadata": {},
     "output_type": "display_data"
    }
   ],
   "source": [
    "plt.scatter(y=np.array(new_df['Gym/badminton']), x=np.array(new_df['Height']), c='g', marker = 'o')\n",
    "plt.scatter(y=np.array(height_outliers['Gym/badminton']), x=np.array(height_outliers['Height']), c='r', marker = 'o')\n",
    "plt.show()"
   ]
  },
  {
   "cell_type": "code",
   "execution_count": 19,
   "metadata": {},
   "outputs": [
    {
     "data": {
      "text/plain": [
       "<Axes: >"
      ]
     },
     "execution_count": 19,
     "metadata": {},
     "output_type": "execute_result"
    },
    {
     "data": {
      "image/png": "[encoded data removed]",
      "text/plain": [
       "<Figure size 640x480 with 1 Axes>"
      ]
     },
     "metadata": {},
     "output_type": "display_data"
    }
   ],
   "source": [
    "sns.boxplot(new_df['Weight'])"
   ]
  },
  {
   "cell_type": "code",
   "execution_count": 20,
   "metadata": {},
   "outputs": [
    {
     "data": {
      "text/plain": [
       "(67.0, 80.0)"
      ]
     },
     "execution_count": 20,
     "metadata": {},
     "output_type": "execute_result"
    }
   ],
   "source": [
    "Q1 = new_df.Weight.quantile(0.25)\n",
    "Q3 = new_df.Weight.quantile(0.75)\n",
    "Q1, Q3"
   ]
  },
  {
   "cell_type": "code",
   "execution_count": 21,
   "metadata": {},
   "outputs": [
    {
     "data": {
      "text/plain": [
       "13.0"
      ]
     },
     "execution_count": 21,
     "metadata": {},
     "output_type": "execute_result"
    }
   ],
   "source": [
    "IQR = Q3 - Q1\n",
    "IQR"
   ]
  },
  {
   "cell_type": "code",
   "execution_count": 22,
   "metadata": {},
   "outputs": [
    {
     "data": {
      "text/plain": [
       "(47.5, 99.5)"
      ]
     },
     "execution_count": 22,
     "metadata": {},
     "output_type": "execute_result"
    }
   ],
   "source": [
    "lower_limit = Q1 - 1.5*IQR\n",
    "upper_limit = Q3 + 1.5*IQR\n",
    "lower_limit, upper_limit"
   ]
  },
  {
   "cell_type": "code",
   "execution_count": 23,
   "metadata": {},
   "outputs": [
    {
     "data": {
      "text/html": [
       "<div>\n",
       "<style scoped>\n",
       "    .dataframe tbody tr th:only-of-type {\n",
       "        vertical-align: middle;\n",
       "    }\n",
       "\n",
       "    .dataframe tbody tr th {\n",
       "        vertical-align: top;\n",
       "    }\n",
       "\n",
       "    .dataframe thead th {\n",
       "        text-align: right;\n",
       "    }\n",
       "</style>\n",
       "<table border=\"1\" class=\"dataframe\">\n",
       "  <thead>\n",
       "    <tr style=\"text-align: right;\">\n",
       "      <th></th>\n",
       "      <th>Name</th>\n",
       "      <th>Roll No</th>\n",
       "      <th>Degree</th>\n",
       "      <th>Gender</th>\n",
       "      <th>Sem</th>\n",
       "      <th>CGPA</th>\n",
       "      <th>Age</th>\n",
       "      <th>Height</th>\n",
       "      <th>Weight</th>\n",
       "      <th>BMI</th>\n",
       "      <th>Gym/badminton</th>\n",
       "    </tr>\n",
       "  </thead>\n",
       "  <tbody>\n",
       "    <tr>\n",
       "      <th>11</th>\n",
       "      <td>RUSHABH RAJUKUMAR DARJI</td>\n",
       "      <td>EC21B1088</td>\n",
       "      <td>B.Tech</td>\n",
       "      <td>0.0</td>\n",
       "      <td>5.0</td>\n",
       "      <td>6.0</td>\n",
       "      <td>20.0</td>\n",
       "      <td>176.0</td>\n",
       "      <td>100.0</td>\n",
       "      <td>32.28</td>\n",
       "      <td>0.0</td>\n",
       "    </tr>\n",
       "    <tr>\n",
       "      <th>73</th>\n",
       "      <td>PRADEEP YADAV</td>\n",
       "      <td>EC22B1056</td>\n",
       "      <td>B.Tech</td>\n",
       "      <td>0.0</td>\n",
       "      <td>3.0</td>\n",
       "      <td>10.0</td>\n",
       "      <td>20.0</td>\n",
       "      <td>181.0</td>\n",
       "      <td>100.0</td>\n",
       "      <td>30.52</td>\n",
       "      <td>1.0</td>\n",
       "    </tr>\n",
       "    <tr>\n",
       "      <th>177</th>\n",
       "      <td>KRISHNA K BHARADWAJ</td>\n",
       "      <td>EC22B1073</td>\n",
       "      <td>B.Tech</td>\n",
       "      <td>0.0</td>\n",
       "      <td>3.0</td>\n",
       "      <td>6.0</td>\n",
       "      <td>18.0</td>\n",
       "      <td>179.0</td>\n",
       "      <td>100.0</td>\n",
       "      <td>31.21</td>\n",
       "      <td>1.0</td>\n",
       "    </tr>\n",
       "    <tr>\n",
       "      <th>364</th>\n",
       "      <td>THUMMA NAGENDRA KUMAR</td>\n",
       "      <td>ME22B2005</td>\n",
       "      <td>B.Tech</td>\n",
       "      <td>0.0</td>\n",
       "      <td>3.0</td>\n",
       "      <td>8.0</td>\n",
       "      <td>20.0</td>\n",
       "      <td>185.0</td>\n",
       "      <td>100.0</td>\n",
       "      <td>29.22</td>\n",
       "      <td>0.0</td>\n",
       "    </tr>\n",
       "    <tr>\n",
       "      <th>417</th>\n",
       "      <td>SURAJ KUMAR</td>\n",
       "      <td>ME22B1073</td>\n",
       "      <td>B.Tech</td>\n",
       "      <td>0.0</td>\n",
       "      <td>3.0</td>\n",
       "      <td>10.0</td>\n",
       "      <td>19.0</td>\n",
       "      <td>179.0</td>\n",
       "      <td>100.0</td>\n",
       "      <td>31.21</td>\n",
       "      <td>1.0</td>\n",
       "    </tr>\n",
       "    <tr>\n",
       "      <th>422</th>\n",
       "      <td>MYNENI KUSHMA</td>\n",
       "      <td>EC22B1201</td>\n",
       "      <td>B.Tech</td>\n",
       "      <td>1.0</td>\n",
       "      <td>3.0</td>\n",
       "      <td>9.0</td>\n",
       "      <td>19.0</td>\n",
       "      <td>185.0</td>\n",
       "      <td>110.0</td>\n",
       "      <td>32.14</td>\n",
       "      <td>0.0</td>\n",
       "    </tr>\n",
       "  </tbody>\n",
       "</table>\n",
       "</div>"
      ],
      "text/plain": [
       "                        Name    Roll No  Degree  Gender  Sem  CGPA   Age  \\\n",
       "11   RUSHABH RAJUKUMAR DARJI  EC21B1088  B.Tech     0.0  5.0   6.0  20.0   \n",
       "73             PRADEEP YADAV  EC22B1056  B.Tech     0.0  3.0  10.0  20.0   \n",
       "177      KRISHNA K BHARADWAJ  EC22B1073  B.Tech     0.0  3.0   6.0  18.0   \n",
       "364    THUMMA NAGENDRA KUMAR  ME22B2005  B.Tech     0.0  3.0   8.0  20.0   \n",
       "417              SURAJ KUMAR  ME22B1073  B.Tech     0.0  3.0  10.0  19.0   \n",
       "422            MYNENI KUSHMA  EC22B1201  B.Tech     1.0  3.0   9.0  19.0   \n",
       "\n",
       "     Height  Weight    BMI  Gym/badminton  \n",
       "11    176.0   100.0  32.28            0.0  \n",
       "73    181.0   100.0  30.52            1.0  \n",
       "177   179.0   100.0  31.21            1.0  \n",
       "364   185.0   100.0  29.22            0.0  \n",
       "417   179.0   100.0  31.21            1.0  \n",
       "422   185.0   110.0  32.14            0.0  "
      ]
     },
     "execution_count": 23,
     "metadata": {},
     "output_type": "execute_result"
    }
   ],
   "source": [
    "weight_outliers = new_df[(new_df.Weight<lower_limit)|(new_df.Weight>upper_limit)]\n",
    "new_df = new_df[(new_df.Weight>lower_limit)&(new_df.Weight<upper_limit)]\n",
    "weight_outliers"
   ]
  },
  {
   "cell_type": "code",
   "execution_count": 24,
   "metadata": {},
   "outputs": [
    {
     "data": {
      "image/png": "[encoded data removed]",
      "text/plain": [
       "<Figure size 640x480 with 1 Axes>"
      ]
     },
     "metadata": {},
     "output_type": "display_data"
    }
   ],
   "source": [
    "plt.scatter(y=np.array(new_df['Gym/badminton']), x=np.array(new_df['Weight']), c='g', marker = 'o')\n",
    "plt.scatter(y=np.array(weight_outliers['Gym/badminton']), x=np.array(weight_outliers['Weight']), c='r', marker = 'o')\n",
    "plt.show()"
   ]
  },
  {
   "cell_type": "code",
   "execution_count": 25,
   "metadata": {},
   "outputs": [
    {
     "data": {
      "text/plain": [
       "<Axes: >"
      ]
     },
     "execution_count": 25,
     "metadata": {},
     "output_type": "execute_result"
    },
    {
     "data": {
      "image/png": "[encoded data removed]",
      "text/plain": [
       "<Figure size 640x480 with 1 Axes>"
      ]
     },
     "metadata": {},
     "output_type": "display_data"
    }
   ],
   "source": [
    "sns.boxplot(new_df['BMI'])"
   ]
  },
  {
   "cell_type": "code",
   "execution_count": 26,
   "metadata": {},
   "outputs": [
    {
     "data": {
      "text/plain": [
       "(22.99, 26.82)"
      ]
     },
     "execution_count": 26,
     "metadata": {},
     "output_type": "execute_result"
    }
   ],
   "source": [
    "Q1 = new_df.BMI.quantile(0.25)\n",
    "Q3 = new_df.BMI.quantile(0.75)\n",
    "Q1, Q3"
   ]
  },
  {
   "cell_type": "code",
   "execution_count": 27,
   "metadata": {},
   "outputs": [
    {
     "data": {
      "text/plain": [
       "3.830000000000002"
      ]
     },
     "execution_count": 27,
     "metadata": {},
     "output_type": "execute_result"
    }
   ],
   "source": [
    "IQR = Q3 - Q1\n",
    "IQR"
   ]
  },
  {
   "cell_type": "code",
   "execution_count": 28,
   "metadata": {},
   "outputs": [
    {
     "data": {
      "text/plain": [
       "(17.244999999999997, 32.565000000000005)"
      ]
     },
     "execution_count": 28,
     "metadata": {},
     "output_type": "execute_result"
    }
   ],
   "source": [
    "lower_limit = Q1 - 1.5*IQR\n",
    "upper_limit = Q3 + 1.5*IQR\n",
    "lower_limit, upper_limit"
   ]
  },
  {
   "cell_type": "code",
   "execution_count": 29,
   "metadata": {},
   "outputs": [
    {
     "data": {
      "text/html": [
       "<div>\n",
       "<style scoped>\n",
       "    .dataframe tbody tr th:only-of-type {\n",
       "        vertical-align: middle;\n",
       "    }\n",
       "\n",
       "    .dataframe tbody tr th {\n",
       "        vertical-align: top;\n",
       "    }\n",
       "\n",
       "    .dataframe thead th {\n",
       "        text-align: right;\n",
       "    }\n",
       "</style>\n",
       "<table border=\"1\" class=\"dataframe\">\n",
       "  <thead>\n",
       "    <tr style=\"text-align: right;\">\n",
       "      <th></th>\n",
       "      <th>Name</th>\n",
       "      <th>Roll No</th>\n",
       "      <th>Degree</th>\n",
       "      <th>Gender</th>\n",
       "      <th>Sem</th>\n",
       "      <th>CGPA</th>\n",
       "      <th>Age</th>\n",
       "      <th>Height</th>\n",
       "      <th>Weight</th>\n",
       "      <th>BMI</th>\n",
       "      <th>Gym/badminton</th>\n",
       "    </tr>\n",
       "  </thead>\n",
       "  <tbody>\n",
       "    <tr>\n",
       "      <th>583</th>\n",
       "      <td>VANIPENTA VARSHITH REDDY</td>\n",
       "      <td>EC20B1206</td>\n",
       "      <td>B.Tech</td>\n",
       "      <td>0.0</td>\n",
       "      <td>7.0</td>\n",
       "      <td>9.0</td>\n",
       "      <td>22.0</td>\n",
       "      <td>178.0</td>\n",
       "      <td>54.0</td>\n",
       "      <td>17.04</td>\n",
       "      <td>1.0</td>\n",
       "    </tr>\n",
       "    <tr>\n",
       "      <th>616</th>\n",
       "      <td>DEVARAKONDA KARTHIKEYA</td>\n",
       "      <td>CS21B2049</td>\n",
       "      <td>B.Tech</td>\n",
       "      <td>0.0</td>\n",
       "      <td>5.0</td>\n",
       "      <td>9.0</td>\n",
       "      <td>21.0</td>\n",
       "      <td>182.0</td>\n",
       "      <td>52.0</td>\n",
       "      <td>15.70</td>\n",
       "      <td>0.0</td>\n",
       "    </tr>\n",
       "    <tr>\n",
       "      <th>751</th>\n",
       "      <td>CHEPURI VARSHA</td>\n",
       "      <td>CS20B1170</td>\n",
       "      <td>B.Tech</td>\n",
       "      <td>1.0</td>\n",
       "      <td>7.0</td>\n",
       "      <td>10.0</td>\n",
       "      <td>20.0</td>\n",
       "      <td>170.0</td>\n",
       "      <td>98.0</td>\n",
       "      <td>33.91</td>\n",
       "      <td>0.0</td>\n",
       "    </tr>\n",
       "  </tbody>\n",
       "</table>\n",
       "</div>"
      ],
      "text/plain": [
       "                         Name    Roll No  Degree  Gender  Sem  CGPA   Age  \\\n",
       "583  VANIPENTA VARSHITH REDDY  EC20B1206  B.Tech     0.0  7.0   9.0  22.0   \n",
       "616    DEVARAKONDA KARTHIKEYA  CS21B2049  B.Tech     0.0  5.0   9.0  21.0   \n",
       "751            CHEPURI VARSHA  CS20B1170  B.Tech     1.0  7.0  10.0  20.0   \n",
       "\n",
       "     Height  Weight    BMI  Gym/badminton  \n",
       "583   178.0    54.0  17.04            1.0  \n",
       "616   182.0    52.0  15.70            0.0  \n",
       "751   170.0    98.0  33.91            0.0  "
      ]
     },
     "execution_count": 29,
     "metadata": {},
     "output_type": "execute_result"
    }
   ],
   "source": [
    "bmi_outliers = new_df[(new_df.BMI<lower_limit)|(new_df.BMI>upper_limit)]\n",
    "new_df = new_df[(new_df.BMI>lower_limit)&(new_df.BMI<upper_limit)]\n",
    "bmi_outliers"
   ]
  },
  {
   "cell_type": "code",
   "execution_count": 30,
   "metadata": {},
   "outputs": [
    {
     "data": {
      "image/png": "[encoded data removed]",
      "text/plain": [
       "<Figure size 640x480 with 1 Axes>"
      ]
     },
     "metadata": {},
     "output_type": "display_data"
    }
   ],
   "source": [
    "plt.scatter(y=np.array(new_df['Gym/badminton']), x=np.array(new_df['BMI']), c='g', marker = 'o')\n",
    "plt.scatter(y=np.array(bmi_outliers['Gym/badminton']), x=np.array(bmi_outliers['BMI']), c='r', marker = 'o')\n",
    "plt.show()"
   ]
  },
  {
   "cell_type": "code",
   "execution_count": 31,
   "metadata": {},
   "outputs": [
    {
     "data": {
      "text/html": [
       "<div>\n",
       "<style scoped>\n",
       "    .dataframe tbody tr th:only-of-type {\n",
       "        vertical-align: middle;\n",
       "    }\n",
       "\n",
       "    .dataframe tbody tr th {\n",
       "        vertical-align: top;\n",
       "    }\n",
       "\n",
       "    .dataframe thead th {\n",
       "        text-align: right;\n",
       "    }\n",
       "</style>\n",
       "<table border=\"1\" class=\"dataframe\">\n",
       "  <thead>\n",
       "    <tr style=\"text-align: right;\">\n",
       "      <th></th>\n",
       "      <th>Name</th>\n",
       "      <th>Roll No</th>\n",
       "      <th>Degree</th>\n",
       "      <th>Gender</th>\n",
       "      <th>Sem</th>\n",
       "      <th>CGPA</th>\n",
       "      <th>Age</th>\n",
       "      <th>Height</th>\n",
       "      <th>Weight</th>\n",
       "      <th>BMI</th>\n",
       "      <th>Gym/badminton</th>\n",
       "      <th>z_score1</th>\n",
       "      <th>z_score2</th>\n",
       "    </tr>\n",
       "  </thead>\n",
       "  <tbody>\n",
       "    <tr>\n",
       "      <th>47</th>\n",
       "      <td>VARIKUTI NARENDRA REDDY</td>\n",
       "      <td>ME20B1234</td>\n",
       "      <td>B.Tech</td>\n",
       "      <td>0.0</td>\n",
       "      <td>7.0</td>\n",
       "      <td>9.0</td>\n",
       "      <td>22.0</td>\n",
       "      <td>107.0</td>\n",
       "      <td>29.0</td>\n",
       "      <td>25.33</td>\n",
       "      <td>1.0</td>\n",
       "      <td>-8.739882</td>\n",
       "      <td>-3.849483</td>\n",
       "    </tr>\n",
       "    <tr>\n",
       "      <th>62</th>\n",
       "      <td>ANDEY AASHISH</td>\n",
       "      <td>ME22B2212</td>\n",
       "      <td>B.Tech</td>\n",
       "      <td>0.0</td>\n",
       "      <td>3.0</td>\n",
       "      <td>8.0</td>\n",
       "      <td>19.0</td>\n",
       "      <td>190.0</td>\n",
       "      <td>120.0</td>\n",
       "      <td>33.24</td>\n",
       "      <td>1.0</td>\n",
       "      <td>2.483395</td>\n",
       "      <td>4.004610</td>\n",
       "    </tr>\n",
       "    <tr>\n",
       "      <th>356</th>\n",
       "      <td>KANCHARLA BABA CHARAN</td>\n",
       "      <td>EC21B1200</td>\n",
       "      <td>B.Tech</td>\n",
       "      <td>0.0</td>\n",
       "      <td>5.0</td>\n",
       "      <td>9.0</td>\n",
       "      <td>21.0</td>\n",
       "      <td>110.0</td>\n",
       "      <td>28.0</td>\n",
       "      <td>23.14</td>\n",
       "      <td>1.0</td>\n",
       "      <td>-8.334221</td>\n",
       "      <td>-3.935792</td>\n",
       "    </tr>\n",
       "    <tr>\n",
       "      <th>422</th>\n",
       "      <td>MYNENI KUSHMA</td>\n",
       "      <td>EC22B1201</td>\n",
       "      <td>B.Tech</td>\n",
       "      <td>1.0</td>\n",
       "      <td>3.0</td>\n",
       "      <td>9.0</td>\n",
       "      <td>19.0</td>\n",
       "      <td>185.0</td>\n",
       "      <td>110.0</td>\n",
       "      <td>32.14</td>\n",
       "      <td>0.0</td>\n",
       "      <td>1.807294</td>\n",
       "      <td>3.141523</td>\n",
       "    </tr>\n",
       "    <tr>\n",
       "      <th>515</th>\n",
       "      <td>GEDUPUDI BHARGHAV RAM</td>\n",
       "      <td>CS21B1090</td>\n",
       "      <td>B.Tech</td>\n",
       "      <td>0.0</td>\n",
       "      <td>5.0</td>\n",
       "      <td>9.0</td>\n",
       "      <td>20.0</td>\n",
       "      <td>100.0</td>\n",
       "      <td>30.0</td>\n",
       "      <td>30.00</td>\n",
       "      <td>0.0</td>\n",
       "      <td>-9.686423</td>\n",
       "      <td>-3.763174</td>\n",
       "    </tr>\n",
       "  </tbody>\n",
       "</table>\n",
       "</div>"
      ],
      "text/plain": [
       "                        Name    Roll No  Degree  Gender  Sem  CGPA   Age  \\\n",
       "47   VARIKUTI NARENDRA REDDY  ME20B1234  B.Tech     0.0  7.0   9.0  22.0   \n",
       "62             ANDEY AASHISH  ME22B2212  B.Tech     0.0  3.0   8.0  19.0   \n",
       "356    KANCHARLA BABA CHARAN  EC21B1200  B.Tech     0.0  5.0   9.0  21.0   \n",
       "422            MYNENI KUSHMA  EC22B1201  B.Tech     1.0  3.0   9.0  19.0   \n",
       "515    GEDUPUDI BHARGHAV RAM  CS21B1090  B.Tech     0.0  5.0   9.0  20.0   \n",
       "\n",
       "     Height  Weight    BMI  Gym/badminton  z_score1  z_score2  \n",
       "47    107.0    29.0  25.33            1.0 -8.739882 -3.849483  \n",
       "62    190.0   120.0  33.24            1.0  2.483395  4.004610  \n",
       "356   110.0    28.0  23.14            1.0 -8.334221 -3.935792  \n",
       "422   185.0   110.0  32.14            0.0  1.807294  3.141523  \n",
       "515   100.0    30.0  30.00            0.0 -9.686423 -3.763174  "
      ]
     },
     "execution_count": 31,
     "metadata": {},
     "output_type": "execute_result"
    }
   ],
   "source": [
    "data =df\n",
    "data['z_score1'] = (data.Height - data.Height.mean())/data.Height.std()\n",
    "data['z_score2'] = (data.Weight - data.Weight.mean())/data.Weight.std()\n",
    "weight_outliers = data[(data['z_score2']>3)|(data['z_score2']<-3)]\n",
    "weight_outliers"
   ]
  },
  {
   "cell_type": "code",
   "execution_count": 32,
   "metadata": {},
   "outputs": [
    {
     "data": {
      "text/html": [
       "<div>\n",
       "<style scoped>\n",
       "    .dataframe tbody tr th:only-of-type {\n",
       "        vertical-align: middle;\n",
       "    }\n",
       "\n",
       "    .dataframe tbody tr th {\n",
       "        vertical-align: top;\n",
       "    }\n",
       "\n",
       "    .dataframe thead th {\n",
       "        text-align: right;\n",
       "    }\n",
       "</style>\n",
       "<table border=\"1\" class=\"dataframe\">\n",
       "  <thead>\n",
       "    <tr style=\"text-align: right;\">\n",
       "      <th></th>\n",
       "      <th>Name</th>\n",
       "      <th>Roll No</th>\n",
       "      <th>Degree</th>\n",
       "      <th>Gender</th>\n",
       "      <th>Sem</th>\n",
       "      <th>CGPA</th>\n",
       "      <th>Age</th>\n",
       "      <th>Height</th>\n",
       "      <th>Weight</th>\n",
       "      <th>BMI</th>\n",
       "      <th>Gym/badminton</th>\n",
       "      <th>z_score1</th>\n",
       "      <th>z_score2</th>\n",
       "    </tr>\n",
       "  </thead>\n",
       "  <tbody>\n",
       "    <tr>\n",
       "      <th>47</th>\n",
       "      <td>VARIKUTI NARENDRA REDDY</td>\n",
       "      <td>ME20B1234</td>\n",
       "      <td>B.Tech</td>\n",
       "      <td>0.0</td>\n",
       "      <td>7.0</td>\n",
       "      <td>9.0</td>\n",
       "      <td>22.0</td>\n",
       "      <td>107.0</td>\n",
       "      <td>29.0</td>\n",
       "      <td>25.33</td>\n",
       "      <td>1.0</td>\n",
       "      <td>-8.739882</td>\n",
       "      <td>-3.849483</td>\n",
       "    </tr>\n",
       "    <tr>\n",
       "      <th>356</th>\n",
       "      <td>KANCHARLA BABA CHARAN</td>\n",
       "      <td>EC21B1200</td>\n",
       "      <td>B.Tech</td>\n",
       "      <td>0.0</td>\n",
       "      <td>5.0</td>\n",
       "      <td>9.0</td>\n",
       "      <td>21.0</td>\n",
       "      <td>110.0</td>\n",
       "      <td>28.0</td>\n",
       "      <td>23.14</td>\n",
       "      <td>1.0</td>\n",
       "      <td>-8.334221</td>\n",
       "      <td>-3.935792</td>\n",
       "    </tr>\n",
       "    <tr>\n",
       "      <th>515</th>\n",
       "      <td>GEDUPUDI BHARGHAV RAM</td>\n",
       "      <td>CS21B1090</td>\n",
       "      <td>B.Tech</td>\n",
       "      <td>0.0</td>\n",
       "      <td>5.0</td>\n",
       "      <td>9.0</td>\n",
       "      <td>20.0</td>\n",
       "      <td>100.0</td>\n",
       "      <td>30.0</td>\n",
       "      <td>30.00</td>\n",
       "      <td>0.0</td>\n",
       "      <td>-9.686423</td>\n",
       "      <td>-3.763174</td>\n",
       "    </tr>\n",
       "  </tbody>\n",
       "</table>\n",
       "</div>"
      ],
      "text/plain": [
       "                        Name    Roll No  Degree  Gender  Sem  CGPA   Age  \\\n",
       "47   VARIKUTI NARENDRA REDDY  ME20B1234  B.Tech     0.0  7.0   9.0  22.0   \n",
       "356    KANCHARLA BABA CHARAN  EC21B1200  B.Tech     0.0  5.0   9.0  21.0   \n",
       "515    GEDUPUDI BHARGHAV RAM  CS21B1090  B.Tech     0.0  5.0   9.0  20.0   \n",
       "\n",
       "     Height  Weight    BMI  Gym/badminton  z_score1  z_score2  \n",
       "47    107.0    29.0  25.33            1.0 -8.739882 -3.849483  \n",
       "356   110.0    28.0  23.14            1.0 -8.334221 -3.935792  \n",
       "515   100.0    30.0  30.00            0.0 -9.686423 -3.763174  "
      ]
     },
     "execution_count": 32,
     "metadata": {},
     "output_type": "execute_result"
    }
   ],
   "source": [
    "height_outliers = data[(data['z_score1']>3)|(data['z_score1']<-3)]\n",
    "height_outliers"
   ]
  },
  {
   "cell_type": "code",
   "execution_count": 33,
   "metadata": {},
   "outputs": [
    {
     "data": {
      "text/html": [
       "<div>\n",
       "<style scoped>\n",
       "    .dataframe tbody tr th:only-of-type {\n",
       "        vertical-align: middle;\n",
       "    }\n",
       "\n",
       "    .dataframe tbody tr th {\n",
       "        vertical-align: top;\n",
       "    }\n",
       "\n",
       "    .dataframe thead th {\n",
       "        text-align: right;\n",
       "    }\n",
       "</style>\n",
       "<table border=\"1\" class=\"dataframe\">\n",
       "  <thead>\n",
       "    <tr style=\"text-align: right;\">\n",
       "      <th></th>\n",
       "      <th>Name</th>\n",
       "      <th>Roll No</th>\n",
       "      <th>Degree</th>\n",
       "      <th>Gender</th>\n",
       "      <th>Sem</th>\n",
       "      <th>CGPA</th>\n",
       "      <th>Age</th>\n",
       "      <th>Height</th>\n",
       "      <th>Weight</th>\n",
       "      <th>BMI</th>\n",
       "      <th>Gym/badminton</th>\n",
       "      <th>z_score1</th>\n",
       "      <th>z_score2</th>\n",
       "    </tr>\n",
       "  </thead>\n",
       "  <tbody>\n",
       "    <tr>\n",
       "      <th>0</th>\n",
       "      <td>SENTHIL NIRAI NILAVU P V S</td>\n",
       "      <td>ME20B2004</td>\n",
       "      <td>B.Tech</td>\n",
       "      <td>1.0</td>\n",
       "      <td>7.0</td>\n",
       "      <td>8.0</td>\n",
       "      <td>22.0</td>\n",
       "      <td>173.0</td>\n",
       "      <td>81.0</td>\n",
       "      <td>27.06</td>\n",
       "      <td>0.0</td>\n",
       "      <td>0.184652</td>\n",
       "      <td>0.638570</td>\n",
       "    </tr>\n",
       "    <tr>\n",
       "      <th>1</th>\n",
       "      <td>KOLLIPARA UMA AYYAPPA SAI SRIKAR</td>\n",
       "      <td>EC22B1084</td>\n",
       "      <td>B.Tech</td>\n",
       "      <td>0.0</td>\n",
       "      <td>3.0</td>\n",
       "      <td>6.0</td>\n",
       "      <td>20.0</td>\n",
       "      <td>167.0</td>\n",
       "      <td>67.0</td>\n",
       "      <td>24.02</td>\n",
       "      <td>0.0</td>\n",
       "      <td>-0.626670</td>\n",
       "      <td>-0.569752</td>\n",
       "    </tr>\n",
       "    <tr>\n",
       "      <th>2</th>\n",
       "      <td>KETHAVATH ANIL</td>\n",
       "      <td>CS20B1049</td>\n",
       "      <td>B.Tech</td>\n",
       "      <td>0.0</td>\n",
       "      <td>7.0</td>\n",
       "      <td>7.0</td>\n",
       "      <td>22.0</td>\n",
       "      <td>170.0</td>\n",
       "      <td>74.0</td>\n",
       "      <td>25.61</td>\n",
       "      <td>0.0</td>\n",
       "      <td>-0.221009</td>\n",
       "      <td>0.034409</td>\n",
       "    </tr>\n",
       "    <tr>\n",
       "      <th>3</th>\n",
       "      <td>RAGHUMANDALA SIVA KIRAN</td>\n",
       "      <td>EC21B1045</td>\n",
       "      <td>B.Tech</td>\n",
       "      <td>0.0</td>\n",
       "      <td>5.0</td>\n",
       "      <td>10.0</td>\n",
       "      <td>19.0</td>\n",
       "      <td>179.0</td>\n",
       "      <td>93.0</td>\n",
       "      <td>29.03</td>\n",
       "      <td>0.0</td>\n",
       "      <td>0.995973</td>\n",
       "      <td>1.674275</td>\n",
       "    </tr>\n",
       "    <tr>\n",
       "      <th>4</th>\n",
       "      <td>B GANESH</td>\n",
       "      <td>ME21B1014</td>\n",
       "      <td>B.Tech</td>\n",
       "      <td>0.0</td>\n",
       "      <td>5.0</td>\n",
       "      <td>8.0</td>\n",
       "      <td>21.0</td>\n",
       "      <td>171.0</td>\n",
       "      <td>68.0</td>\n",
       "      <td>23.26</td>\n",
       "      <td>1.0</td>\n",
       "      <td>-0.085789</td>\n",
       "      <td>-0.483443</td>\n",
       "    </tr>\n",
       "    <tr>\n",
       "      <th>...</th>\n",
       "      <td>...</td>\n",
       "      <td>...</td>\n",
       "      <td>...</td>\n",
       "      <td>...</td>\n",
       "      <td>...</td>\n",
       "      <td>...</td>\n",
       "      <td>...</td>\n",
       "      <td>...</td>\n",
       "      <td>...</td>\n",
       "      <td>...</td>\n",
       "      <td>...</td>\n",
       "      <td>...</td>\n",
       "      <td>...</td>\n",
       "    </tr>\n",
       "    <tr>\n",
       "      <th>811</th>\n",
       "      <td>ANIRUDH SATHISH</td>\n",
       "      <td>CS20B1125</td>\n",
       "      <td>B.Tech</td>\n",
       "      <td>0.0</td>\n",
       "      <td>7.0</td>\n",
       "      <td>6.0</td>\n",
       "      <td>20.0</td>\n",
       "      <td>171.0</td>\n",
       "      <td>67.0</td>\n",
       "      <td>22.91</td>\n",
       "      <td>1.0</td>\n",
       "      <td>-0.085789</td>\n",
       "      <td>-0.569752</td>\n",
       "    </tr>\n",
       "    <tr>\n",
       "      <th>812</th>\n",
       "      <td>TENALI ANIL KUMAR</td>\n",
       "      <td>EC21B1078</td>\n",
       "      <td>B.Tech</td>\n",
       "      <td>0.0</td>\n",
       "      <td>5.0</td>\n",
       "      <td>10.0</td>\n",
       "      <td>19.0</td>\n",
       "      <td>175.0</td>\n",
       "      <td>67.0</td>\n",
       "      <td>21.88</td>\n",
       "      <td>1.0</td>\n",
       "      <td>0.455092</td>\n",
       "      <td>-0.569752</td>\n",
       "    </tr>\n",
       "    <tr>\n",
       "      <th>813</th>\n",
       "      <td>CHERUKURI KULADEEP GUPTHA</td>\n",
       "      <td>CS21B1064</td>\n",
       "      <td>B.Tech</td>\n",
       "      <td>0.0</td>\n",
       "      <td>5.0</td>\n",
       "      <td>9.0</td>\n",
       "      <td>21.0</td>\n",
       "      <td>184.0</td>\n",
       "      <td>86.0</td>\n",
       "      <td>25.40</td>\n",
       "      <td>0.0</td>\n",
       "      <td>1.672074</td>\n",
       "      <td>1.070114</td>\n",
       "    </tr>\n",
       "    <tr>\n",
       "      <th>814</th>\n",
       "      <td>S.MUTHU SHRAVAN</td>\n",
       "      <td>ME20B1009</td>\n",
       "      <td>B.Tech</td>\n",
       "      <td>0.0</td>\n",
       "      <td>7.0</td>\n",
       "      <td>8.0</td>\n",
       "      <td>21.0</td>\n",
       "      <td>168.0</td>\n",
       "      <td>71.0</td>\n",
       "      <td>25.16</td>\n",
       "      <td>0.0</td>\n",
       "      <td>-0.491449</td>\n",
       "      <td>-0.224517</td>\n",
       "    </tr>\n",
       "    <tr>\n",
       "      <th>816</th>\n",
       "      <td>BOLIMERA SIDDHARTH SEKHAR</td>\n",
       "      <td>EC22B1064</td>\n",
       "      <td>B.Tech</td>\n",
       "      <td>0.0</td>\n",
       "      <td>3.0</td>\n",
       "      <td>7.0</td>\n",
       "      <td>19.0</td>\n",
       "      <td>172.0</td>\n",
       "      <td>66.0</td>\n",
       "      <td>22.31</td>\n",
       "      <td>0.0</td>\n",
       "      <td>0.049431</td>\n",
       "      <td>-0.656061</td>\n",
       "    </tr>\n",
       "  </tbody>\n",
       "</table>\n",
       "<p>750 rows × 13 columns</p>\n",
       "</div>"
      ],
      "text/plain": [
       "                                 Name    Roll No  Degree  Gender  Sem  CGPA  \\\n",
       "0          SENTHIL NIRAI NILAVU P V S  ME20B2004  B.Tech     1.0  7.0   8.0   \n",
       "1    KOLLIPARA UMA AYYAPPA SAI SRIKAR  EC22B1084  B.Tech     0.0  3.0   6.0   \n",
       "2                      KETHAVATH ANIL  CS20B1049  B.Tech     0.0  7.0   7.0   \n",
       "3             RAGHUMANDALA SIVA KIRAN  EC21B1045  B.Tech     0.0  5.0  10.0   \n",
       "4                            B GANESH  ME21B1014  B.Tech     0.0  5.0   8.0   \n",
       "..                                ...        ...     ...     ...  ...   ...   \n",
       "811                   ANIRUDH SATHISH  CS20B1125  B.Tech     0.0  7.0   6.0   \n",
       "812                 TENALI ANIL KUMAR  EC21B1078  B.Tech     0.0  5.0  10.0   \n",
       "813         CHERUKURI KULADEEP GUPTHA  CS21B1064  B.Tech     0.0  5.0   9.0   \n",
       "814                   S.MUTHU SHRAVAN  ME20B1009  B.Tech     0.0  7.0   8.0   \n",
       "816         BOLIMERA SIDDHARTH SEKHAR  EC22B1064  B.Tech     0.0  3.0   7.0   \n",
       "\n",
       "      Age  Height  Weight    BMI  Gym/badminton  z_score1  z_score2  \n",
       "0    22.0   173.0    81.0  27.06            0.0  0.184652  0.638570  \n",
       "1    20.0   167.0    67.0  24.02            0.0 -0.626670 -0.569752  \n",
       "2    22.0   170.0    74.0  25.61            0.0 -0.221009  0.034409  \n",
       "3    19.0   179.0    93.0  29.03            0.0  0.995973  1.674275  \n",
       "4    21.0   171.0    68.0  23.26            1.0 -0.085789 -0.483443  \n",
       "..    ...     ...     ...    ...            ...       ...       ...  \n",
       "811  20.0   171.0    67.0  22.91            1.0 -0.085789 -0.569752  \n",
       "812  19.0   175.0    67.0  21.88            1.0  0.455092 -0.569752  \n",
       "813  21.0   184.0    86.0  25.40            0.0  1.672074  1.070114  \n",
       "814  21.0   168.0    71.0  25.16            0.0 -0.491449 -0.224517  \n",
       "816  19.0   172.0    66.0  22.31            0.0  0.049431 -0.656061  \n",
       "\n",
       "[750 rows x 13 columns]"
      ]
     },
     "execution_count": 33,
     "metadata": {},
     "output_type": "execute_result"
    }
   ],
   "source": [
    "new_data = data[(data['z_score1']<3)&(data['z_score1']>-3)&(data['z_score2']<3)&(data['z_score2']>-3)]\n",
    "new_data"
   ]
  },
  {
   "cell_type": "code",
   "execution_count": 34,
   "metadata": {},
   "outputs": [
    {
     "data": {
      "text/html": [
       "<div>\n",
       "<style scoped>\n",
       "    .dataframe tbody tr th:only-of-type {\n",
       "        vertical-align: middle;\n",
       "    }\n",
       "\n",
       "    .dataframe tbody tr th {\n",
       "        vertical-align: top;\n",
       "    }\n",
       "\n",
       "    .dataframe thead th {\n",
       "        text-align: right;\n",
       "    }\n",
       "</style>\n",
       "<table border=\"1\" class=\"dataframe\">\n",
       "  <thead>\n",
       "    <tr style=\"text-align: right;\">\n",
       "      <th></th>\n",
       "      <th>Name</th>\n",
       "      <th>Roll No</th>\n",
       "      <th>Degree</th>\n",
       "      <th>Gender</th>\n",
       "      <th>Sem</th>\n",
       "      <th>CGPA</th>\n",
       "      <th>Age</th>\n",
       "      <th>Height</th>\n",
       "      <th>Weight</th>\n",
       "      <th>BMI</th>\n",
       "      <th>Gym/badminton</th>\n",
       "    </tr>\n",
       "  </thead>\n",
       "  <tbody>\n",
       "    <tr>\n",
       "      <th>0</th>\n",
       "      <td>SENTHIL NIRAI NILAVU P V S</td>\n",
       "      <td>ME20B2004</td>\n",
       "      <td>B.Tech</td>\n",
       "      <td>1.0</td>\n",
       "      <td>7.0</td>\n",
       "      <td>8.0</td>\n",
       "      <td>22.0</td>\n",
       "      <td>173.0</td>\n",
       "      <td>81.0</td>\n",
       "      <td>27.06</td>\n",
       "      <td>0.0</td>\n",
       "    </tr>\n",
       "    <tr>\n",
       "      <th>1</th>\n",
       "      <td>KOLLIPARA UMA AYYAPPA SAI SRIKAR</td>\n",
       "      <td>EC22B1084</td>\n",
       "      <td>B.Tech</td>\n",
       "      <td>0.0</td>\n",
       "      <td>3.0</td>\n",
       "      <td>6.0</td>\n",
       "      <td>20.0</td>\n",
       "      <td>167.0</td>\n",
       "      <td>67.0</td>\n",
       "      <td>24.02</td>\n",
       "      <td>0.0</td>\n",
       "    </tr>\n",
       "    <tr>\n",
       "      <th>2</th>\n",
       "      <td>KETHAVATH ANIL</td>\n",
       "      <td>CS20B1049</td>\n",
       "      <td>B.Tech</td>\n",
       "      <td>0.0</td>\n",
       "      <td>7.0</td>\n",
       "      <td>7.0</td>\n",
       "      <td>22.0</td>\n",
       "      <td>170.0</td>\n",
       "      <td>74.0</td>\n",
       "      <td>25.61</td>\n",
       "      <td>0.0</td>\n",
       "    </tr>\n",
       "    <tr>\n",
       "      <th>3</th>\n",
       "      <td>RAGHUMANDALA SIVA KIRAN</td>\n",
       "      <td>EC21B1045</td>\n",
       "      <td>B.Tech</td>\n",
       "      <td>0.0</td>\n",
       "      <td>5.0</td>\n",
       "      <td>10.0</td>\n",
       "      <td>19.0</td>\n",
       "      <td>179.0</td>\n",
       "      <td>93.0</td>\n",
       "      <td>29.03</td>\n",
       "      <td>0.0</td>\n",
       "    </tr>\n",
       "    <tr>\n",
       "      <th>4</th>\n",
       "      <td>B GANESH</td>\n",
       "      <td>ME21B1014</td>\n",
       "      <td>B.Tech</td>\n",
       "      <td>0.0</td>\n",
       "      <td>5.0</td>\n",
       "      <td>8.0</td>\n",
       "      <td>21.0</td>\n",
       "      <td>171.0</td>\n",
       "      <td>68.0</td>\n",
       "      <td>23.26</td>\n",
       "      <td>1.0</td>\n",
       "    </tr>\n",
       "    <tr>\n",
       "      <th>...</th>\n",
       "      <td>...</td>\n",
       "      <td>...</td>\n",
       "      <td>...</td>\n",
       "      <td>...</td>\n",
       "      <td>...</td>\n",
       "      <td>...</td>\n",
       "      <td>...</td>\n",
       "      <td>...</td>\n",
       "      <td>...</td>\n",
       "      <td>...</td>\n",
       "      <td>...</td>\n",
       "    </tr>\n",
       "    <tr>\n",
       "      <th>811</th>\n",
       "      <td>ANIRUDH SATHISH</td>\n",
       "      <td>CS20B1125</td>\n",
       "      <td>B.Tech</td>\n",
       "      <td>0.0</td>\n",
       "      <td>7.0</td>\n",
       "      <td>6.0</td>\n",
       "      <td>20.0</td>\n",
       "      <td>171.0</td>\n",
       "      <td>67.0</td>\n",
       "      <td>22.91</td>\n",
       "      <td>1.0</td>\n",
       "    </tr>\n",
       "    <tr>\n",
       "      <th>812</th>\n",
       "      <td>TENALI ANIL KUMAR</td>\n",
       "      <td>EC21B1078</td>\n",
       "      <td>B.Tech</td>\n",
       "      <td>0.0</td>\n",
       "      <td>5.0</td>\n",
       "      <td>10.0</td>\n",
       "      <td>19.0</td>\n",
       "      <td>175.0</td>\n",
       "      <td>67.0</td>\n",
       "      <td>21.88</td>\n",
       "      <td>1.0</td>\n",
       "    </tr>\n",
       "    <tr>\n",
       "      <th>813</th>\n",
       "      <td>CHERUKURI KULADEEP GUPTHA</td>\n",
       "      <td>CS21B1064</td>\n",
       "      <td>B.Tech</td>\n",
       "      <td>0.0</td>\n",
       "      <td>5.0</td>\n",
       "      <td>9.0</td>\n",
       "      <td>21.0</td>\n",
       "      <td>184.0</td>\n",
       "      <td>86.0</td>\n",
       "      <td>25.40</td>\n",
       "      <td>0.0</td>\n",
       "    </tr>\n",
       "    <tr>\n",
       "      <th>814</th>\n",
       "      <td>S.MUTHU SHRAVAN</td>\n",
       "      <td>ME20B1009</td>\n",
       "      <td>B.Tech</td>\n",
       "      <td>0.0</td>\n",
       "      <td>7.0</td>\n",
       "      <td>8.0</td>\n",
       "      <td>21.0</td>\n",
       "      <td>168.0</td>\n",
       "      <td>71.0</td>\n",
       "      <td>25.16</td>\n",
       "      <td>0.0</td>\n",
       "    </tr>\n",
       "    <tr>\n",
       "      <th>816</th>\n",
       "      <td>BOLIMERA SIDDHARTH SEKHAR</td>\n",
       "      <td>EC22B1064</td>\n",
       "      <td>B.Tech</td>\n",
       "      <td>0.0</td>\n",
       "      <td>3.0</td>\n",
       "      <td>7.0</td>\n",
       "      <td>19.0</td>\n",
       "      <td>172.0</td>\n",
       "      <td>66.0</td>\n",
       "      <td>22.31</td>\n",
       "      <td>0.0</td>\n",
       "    </tr>\n",
       "  </tbody>\n",
       "</table>\n",
       "<p>735 rows × 11 columns</p>\n",
       "</div>"
      ],
      "text/plain": [
       "                                 Name    Roll No  Degree  Gender  Sem  CGPA  \\\n",
       "0          SENTHIL NIRAI NILAVU P V S  ME20B2004  B.Tech     1.0  7.0   8.0   \n",
       "1    KOLLIPARA UMA AYYAPPA SAI SRIKAR  EC22B1084  B.Tech     0.0  3.0   6.0   \n",
       "2                      KETHAVATH ANIL  CS20B1049  B.Tech     0.0  7.0   7.0   \n",
       "3             RAGHUMANDALA SIVA KIRAN  EC21B1045  B.Tech     0.0  5.0  10.0   \n",
       "4                            B GANESH  ME21B1014  B.Tech     0.0  5.0   8.0   \n",
       "..                                ...        ...     ...     ...  ...   ...   \n",
       "811                   ANIRUDH SATHISH  CS20B1125  B.Tech     0.0  7.0   6.0   \n",
       "812                 TENALI ANIL KUMAR  EC21B1078  B.Tech     0.0  5.0  10.0   \n",
       "813         CHERUKURI KULADEEP GUPTHA  CS21B1064  B.Tech     0.0  5.0   9.0   \n",
       "814                   S.MUTHU SHRAVAN  ME20B1009  B.Tech     0.0  7.0   8.0   \n",
       "816         BOLIMERA SIDDHARTH SEKHAR  EC22B1064  B.Tech     0.0  3.0   7.0   \n",
       "\n",
       "      Age  Height  Weight    BMI  Gym/badminton  \n",
       "0    22.0   173.0    81.0  27.06            0.0  \n",
       "1    20.0   167.0    67.0  24.02            0.0  \n",
       "2    22.0   170.0    74.0  25.61            0.0  \n",
       "3    19.0   179.0    93.0  29.03            0.0  \n",
       "4    21.0   171.0    68.0  23.26            1.0  \n",
       "..    ...     ...     ...    ...            ...  \n",
       "811  20.0   171.0    67.0  22.91            1.0  \n",
       "812  19.0   175.0    67.0  21.88            1.0  \n",
       "813  21.0   184.0    86.0  25.40            0.0  \n",
       "814  21.0   168.0    71.0  25.16            0.0  \n",
       "816  19.0   172.0    66.0  22.31            0.0  \n",
       "\n",
       "[735 rows x 11 columns]"
      ]
     },
     "execution_count": 34,
     "metadata": {},
     "output_type": "execute_result"
    }
   ],
   "source": [
    "new_df"
   ]
  },
  {
   "cell_type": "code",
   "execution_count": 35,
   "metadata": {},
   "outputs": [
    {
     "data": {
      "image/png": "[encoded data removed]",
      "text/plain": [
       "<Figure size 640x480 with 2 Axes>"
      ]
     },
     "metadata": {},
     "output_type": "display_data"
    }
   ],
   "source": [
    "import seaborn as sns\n",
    "import matplotlib.pyplot as plt\n",
    "correlation_matrix = new_df.iloc[:, 3:10].corr()\n",
    "sns.heatmap(correlation_matrix, annot=True, cmap=\"coolwarm\")\n",
    "plt.title(\"Correlation Heatmap for Multiple Variables\")\n",
    "plt.show()"
   ]
  },
  {
   "cell_type": "code",
   "execution_count": 36,
   "metadata": {},
   "outputs": [],
   "source": [
    "X = new_df.iloc[:, 3:-1]\n",
    "y = new_df.iloc[:, -1]"
   ]
  },
  {
   "cell_type": "code",
   "execution_count": 37,
   "metadata": {},
   "outputs": [
    {
     "data": {
      "text/plain": [
       "array([[  0.  ,   3.  ,  10.  , ..., 160.  ,  65.  ,  25.39],\n",
       "       [  0.  ,   5.  ,   8.  , ..., 184.  ,  97.  ,  28.65],\n",
       "       [  0.  ,   5.  ,   6.  , ..., 168.  ,  72.  ,  25.51],\n",
       "       ...,\n",
       "       [  1.  ,   7.  ,   6.  , ..., 175.  ,  80.  ,  26.12],\n",
       "       [  0.  ,   5.  ,   9.  , ..., 172.  ,  67.  ,  22.65],\n",
       "       [  0.  ,   3.  ,   9.  , ..., 184.  ,  89.  ,  26.29]])"
      ]
     },
     "execution_count": 37,
     "metadata": {},
     "output_type": "execute_result"
    }
   ],
   "source": [
    "from sklearn.model_selection import train_test_split\n",
    "X_train, X_test, y_train, y_test = train_test_split(X, y, test_size = 0.2, random_state = 0)\n",
    "X_train.values"
   ]
  },
  {
   "cell_type": "code",
   "execution_count": 38,
   "metadata": {},
   "outputs": [],
   "source": [
    "def euclidean_distance(X_train, X_test):\n",
    "    dist = np.zeros((len(X_test), len(X_train)))\n",
    "    for i in range(len(X_test)):\n",
    "        for j in range(len(X_train)):\n",
    "            dist[i,j] = np.sqrt(np.sum((X_test[i] - X_train[j])**2))\n",
    "    return dist\n",
    "class KNN:\n",
    "    def __init__(self, k = 5):\n",
    "        self.k = k\n",
    "    def fit(self, X_train, y_train):\n",
    "        self.X_train = X_train\n",
    "        self.y_train = y_train\n",
    "        \n",
    "    def predict(self, X_test):\n",
    "        self.distances = euclidean_distance(self.X_train, X_test)\n",
    "        pred = []\n",
    "        for dist in self.distances:\n",
    "            k_nearest_indices = np.argsort(dist)[:self.k]\n",
    "            k_nearest_labels = self.y_train[k_nearest_indices]\n",
    "            pred.append(np.unique(k_nearest_labels)[np.argmax(np.unique(k_nearest_labels, return_counts=True)[1])])\n",
    "        return np.array(pred)"
   ]
  },
  {
   "cell_type": "code",
   "execution_count": 39,
   "metadata": {},
   "outputs": [],
   "source": [
    "knn = KNN(6)\n",
    "knn.fit(X_train.values, y_train.values)"
   ]
  },
  {
   "cell_type": "code",
   "execution_count": 40,
   "metadata": {},
   "outputs": [],
   "source": [
    "y_pred = knn.predict(X_test.values)"
   ]
  },
  {
   "cell_type": "code",
   "execution_count": 41,
   "metadata": {},
   "outputs": [
    {
     "name": "stdout",
     "output_type": "stream",
     "text": [
      "Accuracy:  0.6938775510204082\n",
      "accuracy percentage:  69.38775510204081 %\n"
     ]
    }
   ],
   "source": [
    "def accuracy(y_pred,y_test):\n",
    "    return np.sum(y_pred == y_test)/len(y_test)\n",
    "\n",
    "print(\"Accuracy: \", accuracy(y_pred, y_test))\n",
    "print(\"accuracy percentage: \", accuracy(y_pred, y_test)*100, \"%\")"
   ]
  },
  {
   "cell_type": "code",
   "execution_count": 42,
   "metadata": {},
   "outputs": [],
   "source": [
    "means = {}\n",
    "stds = {}\n",
    "for col in ['Gender', 'Sem', 'Age', 'CGPA', 'Height', 'Weight', 'BMI']:\n",
    "    mean = X_train[col].mean()\n",
    "    means[col] = mean\n",
    "    std = X_train[col].std()\n",
    "    stds[col] = std\n",
    "    X_train[col] = (X_train[col] - mean) / std\n",
    "    X_test[col] = (X_test[col] - mean) / std"
   ]
  },
  {
   "cell_type": "code",
   "execution_count": 43,
   "metadata": {},
   "outputs": [
    {
     "name": "stdout",
     "output_type": "stream",
     "text": [
      "Accuracy:  0.7687074829931972\n",
      "accuracy percentage:  76.87074829931973 %\n"
     ]
    }
   ],
   "source": [
    "knn = KNN(6)\n",
    "knn.fit(X_train.values, y_train.values)\n",
    "\n",
    "y_pred = knn.predict(X_test.values)\n",
    "\n",
    "print(\"Accuracy: \", accuracy(y_pred, y_test))\n",
    "print(\"accuracy percentage: \", accuracy(y_pred, y_test)*100, \"%\")"
   ]
  },
  {
   "cell_type": "code",
   "execution_count": 44,
   "metadata": {},
   "outputs": [],
   "source": [
    "def covariance(X):\n",
    "    mean = np.mean(X,axis=0)\n",
    "    X = X - mean\n",
    "    return np.dot(X.T, X)/(X.shape[0]-1)"
   ]
  },
  {
   "cell_type": "code",
   "execution_count": 45,
   "metadata": {},
   "outputs": [],
   "source": [
    "class PCA:\n",
    "    def __init__(self, n_components):\n",
    "        self.components = None\n",
    "        self.n_components = n_components\n",
    "        \n",
    "    def fit(self, X):\n",
    "        # covariance matrix\n",
    "        cov = covariance(X)\n",
    "        # eigenvalues and eigenvectors\n",
    "        eigenvalues, eigenvectors = np.linalg.eig(cov)\n",
    "        # sort eigenvalues and eigenvectors\n",
    "        idx = eigenvalues.argsort()[::-1]\n",
    "        eigenvalues = eigenvalues[idx]\n",
    "        eigenvectors = eigenvectors[:, idx]\n",
    "        # components\n",
    "        self.components = eigenvectors[:, :self.n_components]\n",
    "    \n",
    "    def transform(self, X):\n",
    "        return np.dot(X, self.components)"
   ]
  },
  {
   "cell_type": "code",
   "execution_count": 46,
   "metadata": {},
   "outputs": [],
   "source": [
    "# from sklearn.decomposition import PCA\n",
    "# pca = PCA(n_components = 6)\n",
    "# X_train = pca.fit_transform(X_train)\n",
    "# X_test = pca.transform(X_test)\n",
    "pca = PCA(6)\n",
    "pca.fit(X_train)\n",
    "X_train1 = pca.transform(X_train.values)\n",
    "X_test1 = pca.transform(X_test.values)"
   ]
  },
  {
   "cell_type": "code",
   "execution_count": 47,
   "metadata": {},
   "outputs": [
    {
     "name": "stdout",
     "output_type": "stream",
     "text": [
      "Accuracy:  0.7687074829931972\n",
      "accuracy percentage:  76.87074829931973 %\n"
     ]
    }
   ],
   "source": [
    "knn = KNN(6)\n",
    "knn.fit(X_train1, y_train.values)\n",
    "\n",
    "y_pred = knn.predict(X_test1)\n",
    "\n",
    "print(\"Accuracy: \", accuracy(y_pred, y_test))\n",
    "print(\"accuracy percentage: \", accuracy(y_pred, y_test)*100, \"%\")"
   ]
  },
  {
   "cell_type": "code",
   "execution_count": 48,
   "metadata": {},
   "outputs": [
    {
     "data": {
      "image/png": "[encoded data removed]",
      "text/plain": [
       "<Figure size 1000x600 with 1 Axes>"
      ]
     },
     "metadata": {},
     "output_type": "display_data"
    },
    {
     "data": {
      "image/png": "[encoded data removed]",
      "text/plain": [
       "<Figure size 1000x600 with 1 Axes>"
      ]
     },
     "metadata": {},
     "output_type": "display_data"
    },
    {
     "data": {
      "image/png": "[encoded data removed]",
      "text/plain": [
       "<Figure size 1000x600 with 1 Axes>"
      ]
     },
     "metadata": {},
     "output_type": "display_data"
    },
    {
     "data": {
      "image/png": "[encoded data removed]",
      "text/plain": [
       "<Figure size 1000x600 with 1 Axes>"
      ]
     },
     "metadata": {},
     "output_type": "display_data"
    },
    {
     "data": {
      "image/png": "[encoded data removed]",
      "text/plain": [
       "<Figure size 1000x600 with 1 Axes>"
      ]
     },
     "metadata": {},
     "output_type": "display_data"
    },
    {
     "data": {
      "image/png": "[encoded data removed]",
      "text/plain": [
       "<Figure size 1000x600 with 1 Axes>"
      ]
     },
     "metadata": {},
     "output_type": "display_data"
    },
    {
     "data": {
      "image/png": "[encoded data removed]",
      "text/plain": [
       "<Figure size 1000x600 with 1 Axes>"
      ]
     },
     "metadata": {},
     "output_type": "display_data"
    }
   ],
   "source": [
    "features = ['Gender', 'Sem', 'Age', 'CGPA', 'Height', 'Weight', 'BMI']\n",
    "\n",
    "for feature in features:\n",
    "    plt.figure(figsize=(10, 6))\n",
    "\n",
    "    # Scatter plot for actual values\n",
    "    plt.scatter(X_test[feature], y_test, color='blue', label='Actual')\n",
    "\n",
    "    # Scatter plot for predicted values\n",
    "    plt.scatter(X_test[feature], y_pred, color='red', label='Predicted')\n",
    "\n",
    "    plt.title(f'Actual vs Predicted for {feature}')\n",
    "    plt.xlabel(feature)\n",
    "    plt.ylabel('Gym/Badminton')\n",
    "    plt.legend(loc='upper left')\n",
    "    plt.show()"
   ]
  },
  {
   "cell_type": "code",
   "execution_count": 50,
   "metadata": {},
   "outputs": [
    {
     "name": "stderr",
     "output_type": "stream",
     "text": [
      "/home/sujan/anaconda3/lib/python3.11/site-packages/sklearn/cluster/_kmeans.py:870: FutureWarning: The default value of `n_init` will change from 10 to 'auto' in 1.4. Set the value of `n_init` explicitly to suppress the warning\n",
      "  warnings.warn(\n",
      "/home/sujan/anaconda3/lib/python3.11/site-packages/sklearn/cluster/_kmeans.py:870: FutureWarning: The default value of `n_init` will change from 10 to 'auto' in 1.4. Set the value of `n_init` explicitly to suppress the warning\n",
      "  warnings.warn(\n",
      "/home/sujan/anaconda3/lib/python3.11/site-packages/sklearn/cluster/_kmeans.py:870: FutureWarning: The default value of `n_init` will change from 10 to 'auto' in 1.4. Set the value of `n_init` explicitly to suppress the warning\n",
      "  warnings.warn(\n",
      "/home/sujan/anaconda3/lib/python3.11/site-packages/sklearn/cluster/_kmeans.py:870: FutureWarning: The default value of `n_init` will change from 10 to 'auto' in 1.4. Set the value of `n_init` explicitly to suppress the warning\n",
      "  warnings.warn(\n",
      "/home/sujan/anaconda3/lib/python3.11/site-packages/sklearn/cluster/_kmeans.py:870: FutureWarning: The default value of `n_init` will change from 10 to 'auto' in 1.4. Set the value of `n_init` explicitly to suppress the warning\n",
      "  warnings.warn(\n",
      "/home/sujan/anaconda3/lib/python3.11/site-packages/sklearn/cluster/_kmeans.py:870: FutureWarning: The default value of `n_init` will change from 10 to 'auto' in 1.4. Set the value of `n_init` explicitly to suppress the warning\n",
      "  warnings.warn(\n",
      "/home/sujan/anaconda3/lib/python3.11/site-packages/sklearn/cluster/_kmeans.py:870: FutureWarning: The default value of `n_init` will change from 10 to 'auto' in 1.4. Set the value of `n_init` explicitly to suppress the warning\n",
      "  warnings.warn(\n",
      "/home/sujan/anaconda3/lib/python3.11/site-packages/sklearn/cluster/_kmeans.py:870: FutureWarning: The default value of `n_init` will change from 10 to 'auto' in 1.4. Set the value of `n_init` explicitly to suppress the warning\n",
      "  warnings.warn(\n",
      "/home/sujan/anaconda3/lib/python3.11/site-packages/sklearn/cluster/_kmeans.py:870: FutureWarning: The default value of `n_init` will change from 10 to 'auto' in 1.4. Set the value of `n_init` explicitly to suppress the warning\n",
      "  warnings.warn(\n",
      "/home/sujan/anaconda3/lib/python3.11/site-packages/sklearn/cluster/_kmeans.py:870: FutureWarning: The default value of `n_init` will change from 10 to 'auto' in 1.4. Set the value of `n_init` explicitly to suppress the warning\n",
      "  warnings.warn(\n"
     ]
    },
    {
     "data": {
      "image/png": "[encoded data removed]",
      "text/plain": [
       "<Figure size 640x480 with 1 Axes>"
      ]
     },
     "metadata": {},
     "output_type": "display_data"
    }
   ],
   "source": [
    "from sklearn.cluster import KMeans\n",
    "wcss = []\n",
    "for i in range(1,11):\n",
    "  kmeans = KMeans(n_clusters=i, init = 'k-means++', random_state=42)\n",
    "  kmeans.fit(X)\n",
    "  wcss.append(kmeans.inertia_)\n",
    "plt.plot(range(1,11), wcss)\n",
    "plt.title('The Elbow Method')\n",
    "plt.xlabel('Nmber of Clusters')\n",
    "plt.ylabel('WCSS')\n",
    "plt.show()"
   ]
  },
  {
   "cell_type": "code",
   "execution_count": 52,
   "metadata": {},
   "outputs": [
    {
     "name": "stdout",
     "output_type": "stream",
     "text": [
      "Accuracy:  0.48435374149659866\n",
      "accuracy percentage:  48.435374149659864 %\n"
     ]
    },
    {
     "name": "stderr",
     "output_type": "stream",
     "text": [
      "/home/sujan/anaconda3/lib/python3.11/site-packages/sklearn/cluster/_kmeans.py:870: FutureWarning: The default value of `n_init` will change from 10 to 'auto' in 1.4. Set the value of `n_init` explicitly to suppress the warning\n",
      "  warnings.warn(\n"
     ]
    }
   ],
   "source": [
    "kmeans = KMeans(n_clusters=2, init = 'k-means++', random_state=42)\n",
    "y_kmeans = kmeans.fit_predict(X)\n",
    "print(\"Accuracy: \", accuracy(y_kmeans, y))\n",
    "print(\"accuracy percentage: \", accuracy(y_kmeans, y)*100, \"%\")"
   ]
  },
  {
   "cell_type": "code",
   "execution_count": 49,
   "metadata": {},
   "outputs": [
    {
     "name": "stdout",
     "output_type": "stream",
     "text": [
      "Gym/Badminton:  1.0\n"
     ]
    }
   ],
   "source": [
    "#take input from user and predict\n",
    "inputs = []\n",
    "name = input(\"Enter your name: \")\n",
    "roll = input(\"Enter your roll no: \")\n",
    "degree = input(\"Enter your degree: \")\n",
    "gender = input(\"Enter your gender: \")\n",
    "if gender == \"Male\":\n",
    "    inputs.append(0.0)\n",
    "else:\n",
    "    inputs.append(1.0)\n",
    "sem = float(input(\"Enter your semester: \"))\n",
    "inputs.append(sem)\n",
    "cgpa = float(input(\"Enter your cgpa: \"))\n",
    "if cgpa > 9.0:\n",
    "    inputs.append(10.0)\n",
    "elif cgpa > 8.0:\n",
    "    inputs.append(9.0)\n",
    "elif cgpa > 7.0:\n",
    "    inputs.append(8.0)\n",
    "elif cgpa > 6.0:\n",
    "    inputs.append(7.0)\n",
    "elif cgpa > 5.0:\n",
    "    inputs.append(6.0)\n",
    "else:\n",
    "    inputs.append(5.0)\n",
    "age = float(input(\"Enter your age: \"))\n",
    "inputs.append(age)\n",
    "height = float(input(\"Enter your height(cm): \"))\n",
    "inputs.append(height)\n",
    "weight = float(input(\"Enter your weight: \"))\n",
    "inputs.append(weight)\n",
    "bmi = float(input(\"Enter your bmi: \"))\n",
    "inputs.append(bmi)\n",
    "\n",
    "for i in range(len(inputs)):\n",
    "    inputs[i] = (inputs[i] - means[features[i]]) / stds[features[i]]\n",
    "\n",
    "inputs = np.array(inputs)\n",
    "\n",
    "inputs = inputs.reshape(1, -1)\n",
    "\n",
    "inputs = pca.transform(inputs)\n",
    "\n",
    "y_pred = knn.predict(inputs)\n",
    "\n",
    "print(\"Gym/Badminton: \", y_pred[0])\n",
    "\n"
   ]
  }
 ],
 "metadata": {
  "kernelspec": {
   "display_name": "base",
   "language": "python",
   "name": "python3"
  },
  "language_info": {
   "codemirror_mode": {
    "name": "ipython",
    "version": 3
   },
   "file_extension": ".py",
   "mimetype": "text/x-python",
   "name": "python",
   "nbconvert_exporter": "python",
   "pygments_lexer": "ipython3",
   "version": "3.11.3"
  }
 },
 "nbformat": 4,
 "nbformat_minor": 2
}
