{
 "cells": [
  {
   "cell_type": "markdown",
   "metadata": {},
   "source": [
    "## Question 1"
   ]
  },
  {
   "cell_type": "code",
   "execution_count": 4,
   "metadata": {},
   "outputs": [
    {
     "name": "stdout",
     "output_type": "stream",
     "text": [
      "1. Insert\n",
      "2. Delete\n",
      "3. Search\n",
      "4. Exit\n",
      "Enter your choice: 1\n",
      "Enter roll number: cs21b1081\n",
      "Enter name: sujan\n",
      "Enter cgpa: 9.2\n",
      "Enter mobile number: 7981482272\n",
      "Inserted successfully\n",
      "1. Insert\n",
      "2. Delete\n",
      "3. Search\n",
      "4. Exit\n",
      "Enter your choice: 3\n",
      "Enter roll number: cs21b1081\n",
      "name: sujan\n",
      "cgpa: 9.2\n",
      "mobile: 7981482272\n",
      "1. Insert\n",
      "2. Delete\n",
      "3. Search\n",
      "4. Exit\n",
      "Enter your choice: 2\n",
      "Enter roll number: cs21b1081\n",
      "Deleted successfully\n",
      "1. Insert\n",
      "2. Delete\n",
      "3. Search\n",
      "4. Exit\n",
      "Enter your choice: 3\n",
      "Enter roll number: cs21b1081\n",
      "Roll number not found\n",
      "1. Insert\n",
      "2. Delete\n",
      "3. Search\n",
      "4. Exit\n",
      "Enter your choice: 4\n"
     ]
    }
   ],
   "source": [
    "students = {}\n",
    "while True:\n",
    "    print(\"1. Insert\")\n",
    "    print(\"2. Delete\")\n",
    "    print(\"3. Search\")\n",
    "    print(\"4. Exit\")\n",
    "    choice = int(input(\"Enter your choice: \"))\n",
    "    if choice == 1:\n",
    "        roll = input(\"Enter roll number: \")\n",
    "        name = input(\"Enter name: \")\n",
    "        cgpa = float(input(\"Enter cgpa: \"))\n",
    "        mobile = int(input(\"Enter mobile number: \"))\n",
    "        students[roll] = [name, cgpa, mobile]\n",
    "        print(\"Inserted successfully\")\n",
    "    elif choice == 2:\n",
    "        roll = input(\"Enter roll number: \")\n",
    "        if roll in students:\n",
    "            del students[roll]\n",
    "            print(\"Deleted successfully\")\n",
    "        else:\n",
    "            print(\"Roll number not found\")\n",
    "    elif choice == 3:\n",
    "        roll = input(\"Enter roll number: \")\n",
    "        if roll in students:\n",
    "            print(\"name:\",students[roll][0])\n",
    "            print(\"cgpa:\",students[roll][1])\n",
    "            print(\"mobile:\",students[roll][2])\n",
    "        else:\n",
    "            print(\"Roll number not found\")\n",
    "    elif choice == 4:\n",
    "        break\n",
    "    else:\n",
    "        print(\"Invalid choice\")"
   ]
  },
  {
   "cell_type": "markdown",
   "metadata": {},
   "source": [
    "## Question 2"
   ]
  },
  {
   "cell_type": "code",
   "execution_count": 5,
   "metadata": {},
   "outputs": [
    {
     "name": "stdout",
     "output_type": "stream",
     "text": [
      "Enter quantity user 1: 2\n",
      "Enter price user 1: 5\n",
      "Enter quantity user 2: 6\n",
      "Enter price user 2: 2\n",
      "Enter quantity user 3: 8\n",
      "Enter price user 3: 4\n",
      "Enter quantity user 4: 3\n",
      "Enter price user 4: 3\n",
      "Enter quantity user 5: 7\n",
      "Enter price user 5: 8\n",
      "Total amount of each person (10, 12, 32, 9, 56)\n",
      "Total amount purchased by five users 119\n"
     ]
    }
   ],
   "source": [
    "Quantity = []\n",
    "Price = []\n",
    "for i in range(5):\n",
    "    Quantity.append(int(input(f\"Enter quantity user {i+1}: \")))\n",
    "    Price.append(int(input(f\"Enter price user {i+1}: \")))\n",
    "\n",
    "Total_amt_each = []\n",
    "for i in range(5):\n",
    "    Total_amt_each.append(Quantity[i] * Price[i])\n",
    "Each_tuple = tuple(Total_amt_each)\n",
    "print(\"Total amount of each person\",Each_tuple)\n",
    "\n",
    "Total_amt = 0\n",
    "for i in range(5):\n",
    "    Total_amt += Each_tuple[i]\n",
    "print(\"Total amount purchased by five users\",Total_amt)"
   ]
  },
  {
   "cell_type": "markdown",
   "metadata": {},
   "source": [
    "## Question 3"
   ]
  },
  {
   "cell_type": "code",
   "execution_count": 6,
   "metadata": {},
   "outputs": [
    {
     "name": "stdout",
     "output_type": "stream",
     "text": [
      "Enter number of items: 5\n",
      "Enter item 1: mango\n",
      "Enter price of mango: 50\n",
      "Enter item 2: tomato\n",
      "Enter price of tomato: 100\n",
      "Enter item 3: apple\n",
      "Enter price of apple: 30\n",
      "Enter item 4: banana\n",
      "Enter price of banana: 15\n",
      "Enter item 5: onion\n",
      "Enter price of onion: 70\n",
      "Sorted items and prices\n",
      "[('banana', 15), ('apple', 30), ('mango', 50), ('onion', 70), ('tomato', 100)]\n"
     ]
    }
   ],
   "source": [
    "items = []\n",
    "prices = []\n",
    "n = int(input(\"Enter number of items: \"))\n",
    "for i in range(n):\n",
    "    items.append(input(f\"Enter item {i+1}: \"))\n",
    "    prices.append(int(input(f\"Enter price of {items[i]}: \")))\n",
    "items_prices = []\n",
    "for i in range(n):\n",
    "    items_prices.append((items[i],prices[i]))\n",
    "items_prices.sort(key=lambda x: x[1])\n",
    "print(\"Sorted items and prices\")\n",
    "print(items_prices)"
   ]
  }
 ],
 "metadata": {
  "kernelspec": {
   "display_name": "Python 3 (ipykernel)",
   "language": "python",
   "name": "python3"
  },
  "language_info": {
   "codemirror_mode": {
    "name": "ipython",
    "version": 3
   },
   "file_extension": ".py",
   "mimetype": "text/x-python",
   "name": "python",
   "nbconvert_exporter": "python",
   "pygments_lexer": "ipython3",
   "version": "3.11.3"
  }
 },
 "nbformat": 4,
 "nbformat_minor": 2
}
