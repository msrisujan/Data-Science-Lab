{
 "cells": [
  {
   "cell_type": "markdown",
   "metadata": {},
   "source": [
    "## Question 1"
   ]
  },
  {
   "cell_type": "code",
   "execution_count": 1,
   "metadata": {},
   "outputs": [
    {
     "name": "stdout",
     "output_type": "stream",
     "text": [
      "Enter the string: python\n",
      "Enter the key: 3\n",
      "Cipher:  sbwkrq\n"
     ]
    }
   ],
   "source": [
    "string = input(\"Enter the string: \")\n",
    "key = int(input(\"Enter the key: \"))\n",
    "cipher = \"\"\n",
    "for i in string:\n",
    "    if i.isupper():\n",
    "        cipher += chr((ord(i) + key - 65) % 26 + 65)\n",
    "    elif i.islower():\n",
    "        cipher += chr((ord(i) + key - 97) % 26 + 97)\n",
    "    else:\n",
    "        cipher += i\n",
    "print(\"Cipher: \", cipher)"
   ]
  },
  {
   "cell_type": "markdown",
   "metadata": {},
   "source": [
    "## Question 2"
   ]
  },
  {
   "cell_type": "code",
   "execution_count": 2,
   "metadata": {},
   "outputs": [
    {
     "name": "stdout",
     "output_type": "stream",
     "text": [
      "Enter PAN number: DBSJK7384A\n",
      "Valid PAN number\n"
     ]
    }
   ],
   "source": [
    "string = input(\"Enter PAN number: \")\n",
    "if len(string) != 10:\n",
    "    print(\"Invalid PAN number\")\n",
    "else:\n",
    "    for i in range(0, 5):\n",
    "        if not string[i].isupper():\n",
    "            print(\"Invalid PAN number\")\n",
    "            exit()\n",
    "    for i in range(5, 9):\n",
    "        if not string[i].isdigit():\n",
    "            print(\"Invalid PAN number\")\n",
    "            exit()\n",
    "    if not string[9].isupper():\n",
    "        print(\"Invalid PAN number\")\n",
    "    else:\n",
    "        print(\"Valid PAN number\")"
   ]
  }
 ],
 "metadata": {
  "kernelspec": {
   "display_name": "Python 3 (ipykernel)",
   "language": "python",
   "name": "python3"
  },
  "language_info": {
   "codemirror_mode": {
    "name": "ipython",
    "version": 3
   },
   "file_extension": ".py",
   "mimetype": "text/x-python",
   "name": "python",
   "nbconvert_exporter": "python",
   "pygments_lexer": "ipython3",
   "version": "3.11.3"
  }
 },
 "nbformat": 4,
 "nbformat_minor": 2
}
