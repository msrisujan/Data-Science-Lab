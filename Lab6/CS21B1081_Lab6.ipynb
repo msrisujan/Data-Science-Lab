{
 "cells": [
  {
   "cell_type": "markdown",
   "metadata": {},
   "source": [
    "## LAB 6"
   ]
  },
  {
   "cell_type": "markdown",
   "metadata": {},
   "source": [
    "# Question 1"
   ]
  },
  {
   "cell_type": "code",
   "execution_count": 3,
   "metadata": {},
   "outputs": [
    {
     "name": "stdout",
     "output_type": "stream",
     "text": [
      "1. Append Record\n",
      "2. Delete Record\n",
      "3. Credit\n",
      "4. Debit\n",
      "5. Print Account Details\n",
      "6. Exit\n",
      "RangeIndex(start=0, stop=3, step=1)\n",
      "3\n",
      "Record appended successfully!\n"
     ]
    }
   ],
   "source": [
    "import pandas as pd\n",
    "\n",
    "data = {\n",
    "    \"Name\": [\"Ram\",\"Sam\",\"Prabhu\"],\n",
    "    \"Account Number\": [9893893891 ,9893893898 , 9893893871],\n",
    "    \"Account Type\": [\"SB\", \"CA\", \"SB\"],\n",
    "    \"Adhaar_No\": [959389389173, 959389389179, 959389389159],\n",
    "    \"Balance\": [8989839, 7690990, 989330]\n",
    "}\n",
    "\n",
    "df = pd.DataFrame(data)\n",
    "df.to_csv(\"SBIAccountHolder.csv\", index=False)\n",
    "\n",
    "def append_record():\n",
    "    print(df.index)\n",
    "    print(len(df.index))\n",
    "    name = input(\"Enter the name of the account holder: \")\n",
    "    account_number = int(input(\"Enter the account number: \"))\n",
    "    account_type = input(\"Enter the account type: \")\n",
    "    adhaar_number = int(input(\"Enter the adhaar number: \"))\n",
    "    balance = int(input(\"Enter the balance: \"))\n",
    "    df.loc[len(df.index)] = [name, account_number, account_type, adhaar_number, balance]\n",
    "    print(\"Record appended successfully!\")\n",
    "    df.to_csv(\"SBIAccountHolder.csv\", index=False)\n",
    "\n",
    "def delete_record():\n",
    "    account_number = int(input(\"Enter the account number to be deleted: \"))\n",
    "    if account_number not in df[\"Account Number\"].values:\n",
    "        print(\"Account number not found!\")\n",
    "    else:\n",
    "        df.drop(df[df[\"Account Number\"] == account_number].index, inplace=True)\n",
    "        print(\"Record deleted successfully!\")\n",
    "        df.to_csv(\"SBIAccountHolder.csv\", index=False)\n",
    "    \n",
    "\n",
    "def credit():\n",
    "    account_number = int(input(\"Enter the account number: \"))\n",
    "    if account_number not in df[\"Account Number\"].values:\n",
    "        print(\"Account number not found!\")\n",
    "    else:\n",
    "        amount = int(input(\"Enter the amount to be credited: \"))\n",
    "        df.loc[df[\"Account Number\"] == account_number, \"Balance\"] += amount\n",
    "        print(\"Amount credited successfully!\")\n",
    "        df.to_csv(\"SBIAccountHolder.csv\", index=False)\n",
    "\n",
    "def debit():\n",
    "    account_number = int(input(\"Enter the account number: \"))\n",
    "    if account_number not in df[\"Account Number\"].values:\n",
    "        print(\"Account number not found!\")\n",
    "    else:\n",
    "        amount = int(input(\"Enter the amount to be debited: \"))\n",
    "        if df.loc[df[\"Account Number\"] == account_number, \"Account Type\"].values == \"SB\":\n",
    "            if df.loc[df[\"Account Number\"] == account_number, \"Balance\"].values - amount < 0:\n",
    "                print(\"Insufficient balance!\")\n",
    "            else:\n",
    "                df.loc[df[\"Account Number\"] == account_number, \"Balance\"] -= amount\n",
    "                print(\"Amount debited successfully!\")\n",
    "                df.to_csv(\"SBIAccountHolder.csv\", index=False)\n",
    "        else:\n",
    "            df.loc[df[\"Account Number\"] == account_number, \"Balance\"] -= amount\n",
    "            print(\"Amount debited successfully!\")\n",
    "            df.to_csv(\"SBIAccountHolder.csv\", index=False)\n",
    "        \n",
    "def print_account_details():\n",
    "    account_number = int(input(\"Enter the account number: \"))\n",
    "    if account_number not in df[\"Account Number\"].values:\n",
    "        print(\"Account number not found!\")\n",
    "    else:\n",
    "        print(df[df[\"Account Number\"] == account_number])\n",
    "\n",
    "if __name__ == \"__main__\":\n",
    "    print(\"1. Append Record\")\n",
    "    print(\"2. Delete Record\")\n",
    "    print(\"3. Credit\")\n",
    "    print(\"4. Debit\")\n",
    "    print(\"5. Print Account Details\")\n",
    "    print(\"6. Exit\")\n",
    "    while True:\n",
    "        choice = int(input(\"Enter your choice: \"))\n",
    "        if choice == 1:\n",
    "            append_record()\n",
    "        elif choice == 2:\n",
    "            delete_record()\n",
    "        elif choice == 3:\n",
    "            credit()\n",
    "        elif choice == 4:\n",
    "            debit()\n",
    "        elif choice == 5:\n",
    "            print_account_details()\n",
    "        elif choice == 6:\n",
    "            break\n",
    "        else:\n",
    "            print(\"Invalid choice!\")"
   ]
  },
  {
   "cell_type": "markdown",
   "metadata": {},
   "source": [
    "# Question 2"
   ]
  },
  {
   "cell_type": "code",
   "execution_count": null,
   "metadata": {},
   "outputs": [],
   "source": [
    "import pandas as pd\n",
    "\n",
    "data = {\n",
    "    \"Name\": [\"Ram\",\"Sam\",\"Prabhu\"],\n",
    "    \"Adhaar Number\": [959389389173, 959389389179, 959389389159],\n",
    "    \"Contact No\": [9840787333, 9840787343, 9840787353],\n",
    "    \"DOB\": [\"12-2-1990\", \"12-2-2000\", \"12-2-2010\"],\n",
    "    \"Address\": [\"No 23, Kandigai, Chennai 127\", \"No 73, Melakottaiyu, Chennai 127\", \"No 43, Anna Nagar, Chennai 102\"]\n",
    "}\n",
    "\n",
    "df = pd.DataFrame(data)\n",
    "df.to_csv(\"Aadhar_DB.csv\", index=False)\n",
    "\n",
    "df1 = pd.read_csv(\"SBIAccountHolder.csv\")\n",
    "df2 = pd.read_csv(\"Aadhar_DB.csv\")\n",
    "df3 = pd.merge(df1, df2, on=[\"Name\"])\n",
    "df3.to_csv(\"Merged.csv\", index=False)\n",
    "\n",
    "df3=pd.read_csv(\"Merged.csv\")\n",
    "print(df3)\n",
    "df3.drop(columns=['Adhaar_No'], inplace=True)\n",
    "df3.to_csv(\"Merged.csv\", index=False)\n",
    "print(df3)"
   ]
  }
 ],
 "metadata": {
  "kernelspec": {
   "display_name": "base",
   "language": "python",
   "name": "python3"
  },
  "language_info": {
   "codemirror_mode": {
    "name": "ipython",
    "version": 3
   },
   "file_extension": ".py",
   "mimetype": "text/x-python",
   "name": "python",
   "nbconvert_exporter": "python",
   "pygments_lexer": "ipython3",
   "version": "3.11.3"
  },
  "orig_nbformat": 4
 },
 "nbformat": 4,
 "nbformat_minor": 2
}
